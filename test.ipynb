{
 "cells": [
  {
   "cell_type": "code",
   "execution_count": null,
   "metadata": {
    "editable": true,
    "id": "4vC87sme8Rhq",
    "slideshow": {
     "slide_type": ""
    },
    "tags": []
   },
   "outputs": [],
   "source": []
  },
  {
   "cell_type": "markdown",
   "metadata": {
    "id": "mkppGu4c9ARR"
   },
   "source": [
    "# **Question 1: Xử lý ban đầu**\n"
   ]
  },
  {
   "cell_type": "markdown",
   "metadata": {
    "id": "QbIpUn3o_8Cj"
   },
   "source": [
    "## ***2. Read data***"
   ]
  },
  {
   "cell_type": "markdown",
   "metadata": {
    "id": "xvj46D6xFDd5"
   },
   "source": [
    "\n",
    "\n",
    "### Path vars\n"
   ]
  },
  {
   "cell_type": "code",
   "execution_count": 185,
   "metadata": {
    "id": "mpxj9S7xDCz8"
   },
   "outputs": [],
   "source": [
    "import pandas as pd\n",
    "\n",
    "data_path = './Data_org/'\n",
    "segment_path = data_path + '2017Segmentation3685case.csv'\n",
    "brand_image_path = data_path + 'Brand_Image.csv'\n",
    "brand_health_path = data_path + 'Brandhealth.csv'\n",
    "companion_path = data_path + 'Companion.csv'\n",
    "competitor_database_path = data_path + 'Competitor database_xlnm#_FilterDatabase.csv'\n",
    "day_of_week_path = data_path + 'Dayofweek.csv'\n",
    "day_part_path = data_path + 'Daypart.csv'\n",
    "need_state_day_part_path = data_path + 'NeedstateDayDaypart.csv'\n",
    "sa_var_path = data_path + 'SA#var.csv'"
   ]
  },
  {
   "cell_type": "markdown",
   "metadata": {
    "id": "GqYi1UmlFS0Z"
   },
   "source": [
    "#### 1. Segment"
   ]
  },
  {
   "cell_type": "markdown",
   "metadata": {
    "id": "Kh6FNUfzFVjN"
   },
   "source": [
    "**Quick peak**"
   ]
  },
  {
   "cell_type": "code",
   "execution_count": 188,
   "metadata": {
    "colab": {
     "base_uri": "https://localhost:8080/",
     "height": 206
    },
    "id": "BSrX8TrrAGdl",
    "outputId": "919a9719-25a1-4888-ad6b-2d9d2c22b3eb"
   },
   "outputs": [
    {
     "data": {
      "text/html": [
       "<div>\n",
       "<style scoped>\n",
       "    .dataframe tbody tr th:only-of-type {\n",
       "        vertical-align: middle;\n",
       "    }\n",
       "\n",
       "    .dataframe tbody tr th {\n",
       "        vertical-align: top;\n",
       "    }\n",
       "\n",
       "    .dataframe thead th {\n",
       "        text-align: right;\n",
       "    }\n",
       "</style>\n",
       "<table border=\"1\" class=\"dataframe\">\n",
       "  <thead>\n",
       "    <tr style=\"text-align: right;\">\n",
       "      <th></th>\n",
       "      <th>ID</th>\n",
       "      <th>Segmentation</th>\n",
       "      <th>Visit</th>\n",
       "      <th>Spending</th>\n",
       "      <th>Brand</th>\n",
       "      <th>PPA</th>\n",
       "    </tr>\n",
       "  </thead>\n",
       "  <tbody>\n",
       "    <tr>\n",
       "      <th>0</th>\n",
       "      <td>92316</td>\n",
       "      <td>Seg.02 - Mass Asp (VND 25K - VND 59K)</td>\n",
       "      <td>4</td>\n",
       "      <td>120</td>\n",
       "      <td>Indepentdent</td>\n",
       "      <td>30</td>\n",
       "    </tr>\n",
       "    <tr>\n",
       "      <th>1</th>\n",
       "      <td>96307</td>\n",
       "      <td>Seg.02 - Mass Asp (VND 25K - VND 59K)</td>\n",
       "      <td>4</td>\n",
       "      <td>120</td>\n",
       "      <td>Indepentdent</td>\n",
       "      <td>30</td>\n",
       "    </tr>\n",
       "    <tr>\n",
       "      <th>2</th>\n",
       "      <td>105678</td>\n",
       "      <td>Seg.02 - Mass Asp (VND 25K - VND 59K)</td>\n",
       "      <td>4</td>\n",
       "      <td>120</td>\n",
       "      <td>Indepentdent</td>\n",
       "      <td>30</td>\n",
       "    </tr>\n",
       "    <tr>\n",
       "      <th>3</th>\n",
       "      <td>106554</td>\n",
       "      <td>Seg.02 - Mass Asp (VND 25K - VND 59K)</td>\n",
       "      <td>4</td>\n",
       "      <td>120</td>\n",
       "      <td>Indepentdent</td>\n",
       "      <td>30</td>\n",
       "    </tr>\n",
       "    <tr>\n",
       "      <th>4</th>\n",
       "      <td>106555</td>\n",
       "      <td>Seg.02 - Mass Asp (VND 25K - VND 59K)</td>\n",
       "      <td>4</td>\n",
       "      <td>120</td>\n",
       "      <td>Indepentdent</td>\n",
       "      <td>30</td>\n",
       "    </tr>\n",
       "  </tbody>\n",
       "</table>\n",
       "</div>"
      ],
      "text/plain": [
       "       ID                           Segmentation  Visit  Spending  \\\n",
       "0   92316  Seg.02 - Mass Asp (VND 25K - VND 59K)      4       120   \n",
       "1   96307  Seg.02 - Mass Asp (VND 25K - VND 59K)      4       120   \n",
       "2  105678  Seg.02 - Mass Asp (VND 25K - VND 59K)      4       120   \n",
       "3  106554  Seg.02 - Mass Asp (VND 25K - VND 59K)      4       120   \n",
       "4  106555  Seg.02 - Mass Asp (VND 25K - VND 59K)      4       120   \n",
       "\n",
       "          Brand  PPA  \n",
       "0  Indepentdent   30  \n",
       "1  Indepentdent   30  \n",
       "2  Indepentdent   30  \n",
       "3  Indepentdent   30  \n",
       "4  Indepentdent   30  "
      ]
     },
     "execution_count": 188,
     "metadata": {},
     "output_type": "execute_result"
    }
   ],
   "source": [
    "df = pd.read_csv(segment_path,delimiter=\";\")\n",
    "df.head()"
   ]
  },
  {
   "cell_type": "markdown",
   "metadata": {
    "id": "b5D4rCZTIhX4"
   },
   "source": [
    "**Describe**"
   ]
  },
  {
   "cell_type": "code",
   "execution_count": 358,
   "metadata": {
    "colab": {
     "base_uri": "https://localhost:8080/",
     "height": 597
    },
    "id": "4l3nziGtIjm2",
    "outputId": "d1c1605d-47d9-4d4f-99c2-45385bc7011a"
   },
   "outputs": [
    {
     "name": "stdout",
     "output_type": "stream",
     "text": [
      "row, col:  (38955, 6)\n",
      "col names:  Index(['ID', 'City', 'Dayofweek', 'Visit#Dayofweek', 'Year', 'Weekday#end'], dtype='object')\n",
      "Missing value: \n"
     ]
    },
    {
     "data": {
      "text/plain": [
       "ID                 0\n",
       "City               0\n",
       "Dayofweek          0\n",
       "Visit#Dayofweek    0\n",
       "Year               0\n",
       "Weekday#end        0\n",
       "dtype: int64"
      ]
     },
     "metadata": {},
     "output_type": "display_data"
    },
    {
     "name": "stdout",
     "output_type": "stream",
     "text": [
      "Unique value per col:\n"
     ]
    },
    {
     "data": {
      "text/plain": [
       "ID                 11761\n",
       "City                   6\n",
       "Dayofweek              7\n",
       "Visit#Dayofweek       26\n",
       "Year                   3\n",
       "Weekday#end            2\n",
       "dtype: int64"
      ]
     },
     "metadata": {},
     "output_type": "display_data"
    }
   ],
   "source": [
    "print(\"row, col: \",df.shape)\n",
    "print(\"col names: \",df.columns)\n",
    "print(\"Missing value: \")\n",
    "display(df.isnull().sum())\n",
    "print(\"Unique value per col:\")\n",
    "display(df.nunique())"
   ]
  },
  {
   "cell_type": "code",
   "execution_count": 364,
   "metadata": {},
   "outputs": [
    {
     "name": "stdout",
     "output_type": "stream",
     "text": [
      "<class 'pandas.core.frame.DataFrame'>\n",
      "RangeIndex: 643072 entries, 0 to 643071\n",
      "Data columns (total 6 columns):\n",
      " #   Column      Non-Null Count   Dtype \n",
      "---  ------      --------------   ----- \n",
      " 0   ID          643072 non-null  int64 \n",
      " 1   Year        643072 non-null  int64 \n",
      " 2   City        643072 non-null  object\n",
      " 3   Awareness   642675 non-null  object\n",
      " 4   Attribute   643072 non-null  object\n",
      " 5   BrandImage  643072 non-null  object\n",
      "dtypes: int64(2), object(4)\n",
      "memory usage: 29.4+ MB\n"
     ]
    }
   ],
   "source": [
    "df.info()"
   ]
  },
  {
   "cell_type": "markdown",
   "metadata": {
    "id": "XVbvyZi-Fa3B"
   },
   "source": [
    "#### 2. Brand image"
   ]
  },
  {
   "cell_type": "markdown",
   "metadata": {
    "id": "Gn8jBLxOJib7"
   },
   "source": [
    "**Quick peak**"
   ]
  },
  {
   "cell_type": "code",
   "execution_count": 366,
   "metadata": {
    "colab": {
     "base_uri": "https://localhost:8080/",
     "height": 206
    },
    "id": "UU0Fj-zVANvh",
    "outputId": "1efbb8b5-14e8-4322-b95f-102c22a45ec4"
   },
   "outputs": [
    {
     "data": {
      "text/html": [
       "<div>\n",
       "<style scoped>\n",
       "    .dataframe tbody tr th:only-of-type {\n",
       "        vertical-align: middle;\n",
       "    }\n",
       "\n",
       "    .dataframe tbody tr th {\n",
       "        vertical-align: top;\n",
       "    }\n",
       "\n",
       "    .dataframe thead th {\n",
       "        text-align: right;\n",
       "    }\n",
       "</style>\n",
       "<table border=\"1\" class=\"dataframe\">\n",
       "  <thead>\n",
       "    <tr style=\"text-align: right;\">\n",
       "      <th></th>\n",
       "      <th>ID</th>\n",
       "      <th>Year</th>\n",
       "      <th>City</th>\n",
       "      <th>Awareness</th>\n",
       "      <th>Attribute</th>\n",
       "      <th>BrandImage</th>\n",
       "    </tr>\n",
       "  </thead>\n",
       "  <tbody>\n",
       "    <tr>\n",
       "      <th>0</th>\n",
       "      <td>725118</td>\n",
       "      <td>2019</td>\n",
       "      <td>Hà Nội</td>\n",
       "      <td>Highlands Coffee</td>\n",
       "      <td>Popular brand</td>\n",
       "      <td>Highlands Coffee</td>\n",
       "    </tr>\n",
       "    <tr>\n",
       "      <th>1</th>\n",
       "      <td>725466</td>\n",
       "      <td>2019</td>\n",
       "      <td>Hà Nội</td>\n",
       "      <td>Highlands Coffee</td>\n",
       "      <td>Popular brand</td>\n",
       "      <td>Highlands Coffee</td>\n",
       "    </tr>\n",
       "    <tr>\n",
       "      <th>2</th>\n",
       "      <td>726561</td>\n",
       "      <td>2019</td>\n",
       "      <td>Hà Nội</td>\n",
       "      <td>Highlands Coffee</td>\n",
       "      <td>Popular brand</td>\n",
       "      <td>Highlands Coffee</td>\n",
       "    </tr>\n",
       "    <tr>\n",
       "      <th>3</th>\n",
       "      <td>726862</td>\n",
       "      <td>2019</td>\n",
       "      <td>Hà Nội</td>\n",
       "      <td>Highlands Coffee</td>\n",
       "      <td>Popular brand</td>\n",
       "      <td>Highlands Coffee</td>\n",
       "    </tr>\n",
       "    <tr>\n",
       "      <th>4</th>\n",
       "      <td>727219</td>\n",
       "      <td>2019</td>\n",
       "      <td>Hà Nội</td>\n",
       "      <td>Highlands Coffee</td>\n",
       "      <td>Popular brand</td>\n",
       "      <td>Highlands Coffee</td>\n",
       "    </tr>\n",
       "  </tbody>\n",
       "</table>\n",
       "</div>"
      ],
      "text/plain": [
       "       ID  Year    City         Awareness      Attribute        BrandImage\n",
       "0  725118  2019  Hà Nội  Highlands Coffee  Popular brand  Highlands Coffee\n",
       "1  725466  2019  Hà Nội  Highlands Coffee  Popular brand  Highlands Coffee\n",
       "2  726561  2019  Hà Nội  Highlands Coffee  Popular brand  Highlands Coffee\n",
       "3  726862  2019  Hà Nội  Highlands Coffee  Popular brand  Highlands Coffee\n",
       "4  727219  2019  Hà Nội  Highlands Coffee  Popular brand  Highlands Coffee"
      ]
     },
     "execution_count": 366,
     "metadata": {},
     "output_type": "execute_result"
    }
   ],
   "source": [
    "df = pd.read_csv(brand_image_path,delimiter=\";\")\n",
    "df.head()"
   ]
  },
  {
   "cell_type": "code",
   "execution_count": null,
   "metadata": {},
   "outputs": [],
   "source": []
  },
  {
   "cell_type": "code",
   "execution_count": 374,
   "metadata": {},
   "outputs": [
    {
     "data": {
      "text/html": [
       "<div>\n",
       "<style scoped>\n",
       "    .dataframe tbody tr th:only-of-type {\n",
       "        vertical-align: middle;\n",
       "    }\n",
       "\n",
       "    .dataframe tbody tr th {\n",
       "        vertical-align: top;\n",
       "    }\n",
       "\n",
       "    .dataframe thead th {\n",
       "        text-align: right;\n",
       "    }\n",
       "</style>\n",
       "<table border=\"1\" class=\"dataframe\">\n",
       "  <thead>\n",
       "    <tr style=\"text-align: right;\">\n",
       "      <th></th>\n",
       "      <th>ID</th>\n",
       "      <th>Year</th>\n",
       "      <th>City</th>\n",
       "      <th>Awareness</th>\n",
       "      <th>Attribute</th>\n",
       "      <th>BrandImage</th>\n",
       "    </tr>\n",
       "  </thead>\n",
       "  <tbody>\n",
       "    <tr>\n",
       "      <th>40900</th>\n",
       "      <td>97503</td>\n",
       "      <td>2017</td>\n",
       "      <td>Hà Nội</td>\n",
       "      <td>NaN</td>\n",
       "      <td>Good other beverages (other than coffee, tea &amp;...</td>\n",
       "      <td>Highlands Coffee</td>\n",
       "    </tr>\n",
       "    <tr>\n",
       "      <th>40901</th>\n",
       "      <td>97503</td>\n",
       "      <td>2017</td>\n",
       "      <td>Hà Nội</td>\n",
       "      <td>NaN</td>\n",
       "      <td>Friendly staff</td>\n",
       "      <td>Highlands Coffee</td>\n",
       "    </tr>\n",
       "    <tr>\n",
       "      <th>40902</th>\n",
       "      <td>97503</td>\n",
       "      <td>2017</td>\n",
       "      <td>Hà Nội</td>\n",
       "      <td>NaN</td>\n",
       "      <td>Good music</td>\n",
       "      <td>Highlands Coffee</td>\n",
       "    </tr>\n",
       "    <tr>\n",
       "      <th>40903</th>\n",
       "      <td>97503</td>\n",
       "      <td>2017</td>\n",
       "      <td>Hà Nội</td>\n",
       "      <td>NaN</td>\n",
       "      <td>Clean</td>\n",
       "      <td>Highlands Coffee</td>\n",
       "    </tr>\n",
       "    <tr>\n",
       "      <th>40904</th>\n",
       "      <td>97503</td>\n",
       "      <td>2017</td>\n",
       "      <td>Hà Nội</td>\n",
       "      <td>NaN</td>\n",
       "      <td>Recommended by others</td>\n",
       "      <td>Highlands Coffee</td>\n",
       "    </tr>\n",
       "    <tr>\n",
       "      <th>...</th>\n",
       "      <td>...</td>\n",
       "      <td>...</td>\n",
       "      <td>...</td>\n",
       "      <td>...</td>\n",
       "      <td>...</td>\n",
       "      <td>...</td>\n",
       "    </tr>\n",
       "    <tr>\n",
       "      <th>577436</th>\n",
       "      <td>368429</td>\n",
       "      <td>2018</td>\n",
       "      <td>Hải Phòng</td>\n",
       "      <td>NaN</td>\n",
       "      <td>Feel I belong here</td>\n",
       "      <td>Other 1</td>\n",
       "    </tr>\n",
       "    <tr>\n",
       "      <th>577437</th>\n",
       "      <td>368429</td>\n",
       "      <td>2018</td>\n",
       "      <td>Hải Phòng</td>\n",
       "      <td>NaN</td>\n",
       "      <td>Convenient location</td>\n",
       "      <td>Other 1</td>\n",
       "    </tr>\n",
       "    <tr>\n",
       "      <th>577438</th>\n",
       "      <td>368429</td>\n",
       "      <td>2018</td>\n",
       "      <td>Hải Phòng</td>\n",
       "      <td>NaN</td>\n",
       "      <td>High speed of internet</td>\n",
       "      <td>Other 1</td>\n",
       "    </tr>\n",
       "    <tr>\n",
       "      <th>577439</th>\n",
       "      <td>368429</td>\n",
       "      <td>2018</td>\n",
       "      <td>Hải Phòng</td>\n",
       "      <td>NaN</td>\n",
       "      <td>Clean</td>\n",
       "      <td>Other 1</td>\n",
       "    </tr>\n",
       "    <tr>\n",
       "      <th>577440</th>\n",
       "      <td>368429</td>\n",
       "      <td>2018</td>\n",
       "      <td>Hải Phòng</td>\n",
       "      <td>NaN</td>\n",
       "      <td>Trusted brand</td>\n",
       "      <td>Other 1</td>\n",
       "    </tr>\n",
       "  </tbody>\n",
       "</table>\n",
       "<p>397 rows × 6 columns</p>\n",
       "</div>"
      ],
      "text/plain": [
       "            ID  Year       City Awareness  \\\n",
       "40900    97503  2017     Hà Nội       NaN   \n",
       "40901    97503  2017     Hà Nội       NaN   \n",
       "40902    97503  2017     Hà Nội       NaN   \n",
       "40903    97503  2017     Hà Nội       NaN   \n",
       "40904    97503  2017     Hà Nội       NaN   \n",
       "...        ...   ...        ...       ...   \n",
       "577436  368429  2018  Hải Phòng       NaN   \n",
       "577437  368429  2018  Hải Phòng       NaN   \n",
       "577438  368429  2018  Hải Phòng       NaN   \n",
       "577439  368429  2018  Hải Phòng       NaN   \n",
       "577440  368429  2018  Hải Phòng       NaN   \n",
       "\n",
       "                                                Attribute        BrandImage  \n",
       "40900   Good other beverages (other than coffee, tea &...  Highlands Coffee  \n",
       "40901                                      Friendly staff  Highlands Coffee  \n",
       "40902                                          Good music  Highlands Coffee  \n",
       "40903                                               Clean  Highlands Coffee  \n",
       "40904                               Recommended by others  Highlands Coffee  \n",
       "...                                                   ...               ...  \n",
       "577436                                 Feel I belong here           Other 1  \n",
       "577437                                Convenient location           Other 1  \n",
       "577438                             High speed of internet           Other 1  \n",
       "577439                                              Clean           Other 1  \n",
       "577440                                      Trusted brand           Other 1  \n",
       "\n",
       "[397 rows x 6 columns]"
      ]
     },
     "execution_count": 374,
     "metadata": {},
     "output_type": "execute_result"
    }
   ],
   "source": [
    "df[df['Awareness'].values != df['BrandImage'].values]"
   ]
  },
  {
   "cell_type": "markdown",
   "metadata": {
    "id": "hQHB5lkZJj9W"
   },
   "source": [
    "**Describe**"
   ]
  },
  {
   "cell_type": "code",
   "execution_count": 195,
   "metadata": {
    "colab": {
     "base_uri": "https://localhost:8080/",
     "height": 597
    },
    "id": "uAW-12MYJukR",
    "outputId": "915d5b2f-ceca-44c5-fc35-a9eb51352eb9"
   },
   "outputs": [
    {
     "name": "stdout",
     "output_type": "stream",
     "text": [
      "row, col:  (643072, 6)\n",
      "col names:  Index(['ID', 'Year', 'City', 'Awareness', 'Attribute', 'BrandImage'], dtype='object')\n",
      "Missing value: \n"
     ]
    },
    {
     "data": {
      "text/plain": [
       "ID              0\n",
       "Year            0\n",
       "City            0\n",
       "Awareness     397\n",
       "Attribute       0\n",
       "BrandImage      0\n",
       "dtype: int64"
      ]
     },
     "metadata": {},
     "output_type": "display_data"
    },
    {
     "name": "stdout",
     "output_type": "stream",
     "text": [
      "Unique value per col:\n"
     ]
    },
    {
     "data": {
      "text/plain": [
       "ID            11761\n",
       "Year              3\n",
       "City              6\n",
       "Awareness        37\n",
       "Attribute        28\n",
       "BrandImage       37\n",
       "dtype: int64"
      ]
     },
     "metadata": {},
     "output_type": "display_data"
    }
   ],
   "source": [
    "print(\"row, col: \",df.shape)\n",
    "print(\"col names: \",df.columns)\n",
    "print(\"Missing value: \")\n",
    "display(df.isnull().sum())\n",
    "print(\"Unique value per col:\")\n",
    "display(df.nunique())"
   ]
  },
  {
   "cell_type": "markdown",
   "metadata": {
    "id": "dwm6Jwr1Fyv-"
   },
   "source": [
    "#### 3. Brand health"
   ]
  },
  {
   "cell_type": "markdown",
   "metadata": {
    "id": "trRHGCcpJ0fd"
   },
   "source": [
    "**Quick peak**"
   ]
  },
  {
   "cell_type": "code",
   "execution_count": 198,
   "metadata": {
    "colab": {
     "base_uri": "https://localhost:8080/",
     "height": 241
    },
    "id": "gUPPaDrnETQv",
    "outputId": "811fe7d1-5d54-481f-ca9e-879b1c3b50f1"
   },
   "outputs": [
    {
     "name": "stderr",
     "output_type": "stream",
     "text": [
      "C:\\Users\\Boy gioi\\AppData\\Local\\Temp\\ipykernel_25508\\2265207340.py:1: DtypeWarning: Columns (4,7,8,10,11,12,16,18) have mixed types. Specify dtype option on import or set low_memory=False.\n",
      "  df = pd.read_csv(brand_health_path,delimiter=\";\")\n"
     ]
    },
    {
     "data": {
      "text/html": [
       "<div>\n",
       "<style scoped>\n",
       "    .dataframe tbody tr th:only-of-type {\n",
       "        vertical-align: middle;\n",
       "    }\n",
       "\n",
       "    .dataframe tbody tr th {\n",
       "        vertical-align: top;\n",
       "    }\n",
       "\n",
       "    .dataframe thead th {\n",
       "        text-align: right;\n",
       "    }\n",
       "</style>\n",
       "<table border=\"1\" class=\"dataframe\">\n",
       "  <thead>\n",
       "    <tr style=\"text-align: right;\">\n",
       "      <th></th>\n",
       "      <th>ID</th>\n",
       "      <th>Year</th>\n",
       "      <th>City</th>\n",
       "      <th>Brand</th>\n",
       "      <th>Spontaneous</th>\n",
       "      <th>Awareness</th>\n",
       "      <th>Trial</th>\n",
       "      <th>P3M</th>\n",
       "      <th>P1M</th>\n",
       "      <th>Comprehension</th>\n",
       "      <th>Brand_Likability</th>\n",
       "      <th>Weekly</th>\n",
       "      <th>Daily</th>\n",
       "      <th>Fre#visit</th>\n",
       "      <th>PPA</th>\n",
       "      <th>Spending</th>\n",
       "      <th>Segmentation</th>\n",
       "      <th>NPS#P3M</th>\n",
       "      <th>NPS#P3M#Group</th>\n",
       "      <th>Spending_use</th>\n",
       "    </tr>\n",
       "  </thead>\n",
       "  <tbody>\n",
       "    <tr>\n",
       "      <th>0</th>\n",
       "      <td>345853</td>\n",
       "      <td>2018</td>\n",
       "      <td>Hồ Chí Minh</td>\n",
       "      <td>Phúc Long</td>\n",
       "      <td>NaN</td>\n",
       "      <td>Phúc Long</td>\n",
       "      <td>NaN</td>\n",
       "      <td>NaN</td>\n",
       "      <td>NaN</td>\n",
       "      <td>NaN</td>\n",
       "      <td>NaN</td>\n",
       "      <td>NaN</td>\n",
       "      <td>NaN</td>\n",
       "      <td>NaN</td>\n",
       "      <td>NaN</td>\n",
       "      <td>NaN</td>\n",
       "      <td>NaN</td>\n",
       "      <td>NaN</td>\n",
       "      <td>NaN</td>\n",
       "      <td>NaN</td>\n",
       "    </tr>\n",
       "    <tr>\n",
       "      <th>1</th>\n",
       "      <td>348403</td>\n",
       "      <td>2018</td>\n",
       "      <td>Hồ Chí Minh</td>\n",
       "      <td>Phúc Long</td>\n",
       "      <td>NaN</td>\n",
       "      <td>Phúc Long</td>\n",
       "      <td>NaN</td>\n",
       "      <td>NaN</td>\n",
       "      <td>NaN</td>\n",
       "      <td>NaN</td>\n",
       "      <td>NaN</td>\n",
       "      <td>NaN</td>\n",
       "      <td>NaN</td>\n",
       "      <td>NaN</td>\n",
       "      <td>NaN</td>\n",
       "      <td>NaN</td>\n",
       "      <td>NaN</td>\n",
       "      <td>NaN</td>\n",
       "      <td>NaN</td>\n",
       "      <td>NaN</td>\n",
       "    </tr>\n",
       "    <tr>\n",
       "      <th>2</th>\n",
       "      <td>349552</td>\n",
       "      <td>2018</td>\n",
       "      <td>Hồ Chí Minh</td>\n",
       "      <td>Phúc Long</td>\n",
       "      <td>NaN</td>\n",
       "      <td>Phúc Long</td>\n",
       "      <td>NaN</td>\n",
       "      <td>NaN</td>\n",
       "      <td>NaN</td>\n",
       "      <td>NaN</td>\n",
       "      <td>NaN</td>\n",
       "      <td>NaN</td>\n",
       "      <td>NaN</td>\n",
       "      <td>NaN</td>\n",
       "      <td>NaN</td>\n",
       "      <td>NaN</td>\n",
       "      <td>NaN</td>\n",
       "      <td>NaN</td>\n",
       "      <td>NaN</td>\n",
       "      <td>NaN</td>\n",
       "    </tr>\n",
       "    <tr>\n",
       "      <th>3</th>\n",
       "      <td>349764</td>\n",
       "      <td>2018</td>\n",
       "      <td>Hồ Chí Minh</td>\n",
       "      <td>Phúc Long</td>\n",
       "      <td>NaN</td>\n",
       "      <td>Phúc Long</td>\n",
       "      <td>NaN</td>\n",
       "      <td>NaN</td>\n",
       "      <td>NaN</td>\n",
       "      <td>NaN</td>\n",
       "      <td>NaN</td>\n",
       "      <td>NaN</td>\n",
       "      <td>NaN</td>\n",
       "      <td>NaN</td>\n",
       "      <td>NaN</td>\n",
       "      <td>NaN</td>\n",
       "      <td>NaN</td>\n",
       "      <td>NaN</td>\n",
       "      <td>NaN</td>\n",
       "      <td>NaN</td>\n",
       "    </tr>\n",
       "    <tr>\n",
       "      <th>4</th>\n",
       "      <td>350072</td>\n",
       "      <td>2018</td>\n",
       "      <td>Hồ Chí Minh</td>\n",
       "      <td>Phúc Long</td>\n",
       "      <td>NaN</td>\n",
       "      <td>Phúc Long</td>\n",
       "      <td>NaN</td>\n",
       "      <td>NaN</td>\n",
       "      <td>NaN</td>\n",
       "      <td>NaN</td>\n",
       "      <td>NaN</td>\n",
       "      <td>NaN</td>\n",
       "      <td>NaN</td>\n",
       "      <td>NaN</td>\n",
       "      <td>NaN</td>\n",
       "      <td>NaN</td>\n",
       "      <td>NaN</td>\n",
       "      <td>NaN</td>\n",
       "      <td>NaN</td>\n",
       "      <td>NaN</td>\n",
       "    </tr>\n",
       "  </tbody>\n",
       "</table>\n",
       "</div>"
      ],
      "text/plain": [
       "       ID  Year         City      Brand Spontaneous  Awareness Trial  P3M  \\\n",
       "0  345853  2018  Hồ Chí Minh  Phúc Long         NaN  Phúc Long   NaN  NaN   \n",
       "1  348403  2018  Hồ Chí Minh  Phúc Long         NaN  Phúc Long   NaN  NaN   \n",
       "2  349552  2018  Hồ Chí Minh  Phúc Long         NaN  Phúc Long   NaN  NaN   \n",
       "3  349764  2018  Hồ Chí Minh  Phúc Long         NaN  Phúc Long   NaN  NaN   \n",
       "4  350072  2018  Hồ Chí Minh  Phúc Long         NaN  Phúc Long   NaN  NaN   \n",
       "\n",
       "   P1M Comprehension Brand_Likability Weekly Daily  Fre#visit  PPA  Spending  \\\n",
       "0  NaN           NaN              NaN    NaN   NaN        NaN  NaN       NaN   \n",
       "1  NaN           NaN              NaN    NaN   NaN        NaN  NaN       NaN   \n",
       "2  NaN           NaN              NaN    NaN   NaN        NaN  NaN       NaN   \n",
       "3  NaN           NaN              NaN    NaN   NaN        NaN  NaN       NaN   \n",
       "4  NaN           NaN              NaN    NaN   NaN        NaN  NaN       NaN   \n",
       "\n",
       "  Segmentation  NPS#P3M NPS#P3M#Group  Spending_use  \n",
       "0          NaN      NaN           NaN           NaN  \n",
       "1          NaN      NaN           NaN           NaN  \n",
       "2          NaN      NaN           NaN           NaN  \n",
       "3          NaN      NaN           NaN           NaN  \n",
       "4          NaN      NaN           NaN           NaN  "
      ]
     },
     "execution_count": 198,
     "metadata": {},
     "output_type": "execute_result"
    }
   ],
   "source": [
    "df = pd.read_csv(brand_health_path,delimiter=\";\")\n",
    "df.head()"
   ]
  },
  {
   "cell_type": "markdown",
   "metadata": {
    "id": "hw1sDnlXJ4F7"
   },
   "source": [
    "**Describe**"
   ]
  },
  {
   "cell_type": "code",
   "execution_count": null,
   "metadata": {},
   "outputs": [],
   "source": []
  },
  {
   "cell_type": "code",
   "execution_count": 200,
   "metadata": {
    "colab": {
     "base_uri": "https://localhost:8080/",
     "height": 1000
    },
    "id": "RI2k6PBRJ0Ds",
    "outputId": "a5a1ca09-a0f8-4168-9b5b-8d87fc529c56"
   },
   "outputs": [
    {
     "name": "stdout",
     "output_type": "stream",
     "text": [
      "row, col:  (74419, 20)\n",
      "col names:  Index(['ID', 'Year', 'City', 'Brand', 'Spontaneous', 'Awareness', 'Trial',\n",
      "       'P3M', 'P1M', 'Comprehension', 'Brand_Likability', 'Weekly', 'Daily',\n",
      "       'Fre#visit', 'PPA', 'Spending', 'Segmentation', 'NPS#P3M',\n",
      "       'NPS#P3M#Group', 'Spending_use'],\n",
      "      dtype='object')\n",
      "Missing value: \n"
     ]
    },
    {
     "data": {
      "text/plain": [
       "ID                      0\n",
       "Year                    0\n",
       "City                    0\n",
       "Brand                   0\n",
       "Spontaneous         43426\n",
       "Awareness             114\n",
       "Trial               27089\n",
       "P3M                 45570\n",
       "P1M                 55020\n",
       "Comprehension       48073\n",
       "Brand_Likability    64088\n",
       "Weekly              61037\n",
       "Daily               66798\n",
       "Fre#visit           55087\n",
       "PPA                 60346\n",
       "Spending            60346\n",
       "Segmentation        60346\n",
       "NPS#P3M             52814\n",
       "NPS#P3M#Group       52814\n",
       "Spending_use        60346\n",
       "dtype: int64"
      ]
     },
     "metadata": {},
     "output_type": "display_data"
    },
    {
     "name": "stdout",
     "output_type": "stream",
     "text": [
      "Unique value per col:\n"
     ]
    },
    {
     "data": {
      "text/plain": [
       "ID                  11761\n",
       "Year                    3\n",
       "City                    6\n",
       "Brand                  36\n",
       "Spontaneous            37\n",
       "Awareness              37\n",
       "Trial                  37\n",
       "P3M                    37\n",
       "P1M                    36\n",
       "Comprehension           5\n",
       "Brand_Likability       27\n",
       "Weekly                 36\n",
       "Daily                  23\n",
       "Fre#visit              59\n",
       "PPA                    86\n",
       "Spending              316\n",
       "Segmentation            4\n",
       "NPS#P3M                11\n",
       "NPS#P3M#Group           3\n",
       "Spending_use          316\n",
       "dtype: int64"
      ]
     },
     "metadata": {},
     "output_type": "display_data"
    }
   ],
   "source": [
    "print(\"row, col: \",df.shape)\n",
    "print(\"col names: \",df.columns)\n",
    "print(\"Missing value: \")\n",
    "display(df.isnull().sum())\n",
    "print(\"Unique value per col:\")\n",
    "display(df.nunique())"
   ]
  },
  {
   "cell_type": "markdown",
   "metadata": {
    "id": "MfFM0n8GFzNo"
   },
   "source": [
    "#### 4. Companion"
   ]
  },
  {
   "cell_type": "markdown",
   "metadata": {},
   "source": [
    "**Quick peak**"
   ]
  },
  {
   "cell_type": "code",
   "execution_count": 280,
   "metadata": {},
   "outputs": [
    {
     "data": {
      "text/html": [
       "<div>\n",
       "<style scoped>\n",
       "    .dataframe tbody tr th:only-of-type {\n",
       "        vertical-align: middle;\n",
       "    }\n",
       "\n",
       "    .dataframe tbody tr th {\n",
       "        vertical-align: top;\n",
       "    }\n",
       "\n",
       "    .dataframe thead th {\n",
       "        text-align: right;\n",
       "    }\n",
       "</style>\n",
       "<table border=\"1\" class=\"dataframe\">\n",
       "  <thead>\n",
       "    <tr style=\"text-align: right;\">\n",
       "      <th></th>\n",
       "      <th>ID</th>\n",
       "      <th>City</th>\n",
       "      <th>Companion#group</th>\n",
       "      <th>Year</th>\n",
       "    </tr>\n",
       "  </thead>\n",
       "  <tbody>\n",
       "    <tr>\n",
       "      <th>0</th>\n",
       "      <td>725466</td>\n",
       "      <td>Hà Nội</td>\n",
       "      <td>Friends</td>\n",
       "      <td>2019</td>\n",
       "    </tr>\n",
       "    <tr>\n",
       "      <th>1</th>\n",
       "      <td>726862</td>\n",
       "      <td>Hà Nội</td>\n",
       "      <td>Friends</td>\n",
       "      <td>2019</td>\n",
       "    </tr>\n",
       "    <tr>\n",
       "      <th>2</th>\n",
       "      <td>727015</td>\n",
       "      <td>Hà Nội</td>\n",
       "      <td>Friends</td>\n",
       "      <td>2019</td>\n",
       "    </tr>\n",
       "    <tr>\n",
       "      <th>3</th>\n",
       "      <td>727219</td>\n",
       "      <td>Hà Nội</td>\n",
       "      <td>Friends</td>\n",
       "      <td>2019</td>\n",
       "    </tr>\n",
       "    <tr>\n",
       "      <th>4</th>\n",
       "      <td>727611</td>\n",
       "      <td>Hà Nội</td>\n",
       "      <td>Friends</td>\n",
       "      <td>2019</td>\n",
       "    </tr>\n",
       "  </tbody>\n",
       "</table>\n",
       "</div>"
      ],
      "text/plain": [
       "       ID    City Companion#group  Year\n",
       "0  725466  Hà Nội         Friends  2019\n",
       "1  726862  Hà Nội         Friends  2019\n",
       "2  727015  Hà Nội         Friends  2019\n",
       "3  727219  Hà Nội         Friends  2019\n",
       "4  727611  Hà Nội         Friends  2019"
      ]
     },
     "execution_count": 280,
     "metadata": {},
     "output_type": "execute_result"
    }
   ],
   "source": [
    "df = pd.read_csv(companion_path,delimiter=\";\")\n",
    "df.head()"
   ]
  },
  {
   "cell_type": "markdown",
   "metadata": {
    "id": "Swx7Jb6mKMGx"
   },
   "source": [
    "**Describe**"
   ]
  },
  {
   "cell_type": "code",
   "execution_count": 283,
   "metadata": {},
   "outputs": [
    {
     "name": "stdout",
     "output_type": "stream",
     "text": [
      "row, col:  (20739, 4)\n",
      "col names:  Index(['ID', 'City', 'Companion#group', 'Year'], dtype='object')\n",
      "Missing value: \n"
     ]
    },
    {
     "data": {
      "text/plain": [
       "ID                 0\n",
       "City               0\n",
       "Companion#group    0\n",
       "Year               0\n",
       "dtype: int64"
      ]
     },
     "metadata": {},
     "output_type": "display_data"
    },
    {
     "name": "stdout",
     "output_type": "stream",
     "text": [
      "Unique value per col:\n"
     ]
    },
    {
     "data": {
      "text/plain": [
       "ID                 11746\n",
       "City                   6\n",
       "Companion#group        6\n",
       "Year                   3\n",
       "dtype: int64"
      ]
     },
     "metadata": {},
     "output_type": "display_data"
    }
   ],
   "source": [
    "print(\"row, col: \",df.shape)\n",
    "print(\"col names: \",df.columns)\n",
    "print(\"Missing value: \")\n",
    "display(df.isnull().sum())\n",
    "print(\"Unique value per col:\")\n",
    "display(df.nunique())"
   ]
  },
  {
   "cell_type": "markdown",
   "metadata": {
    "id": "R23nnsQEFzdb"
   },
   "source": [
    "#### 5. Competitor database"
   ]
  },
  {
   "cell_type": "markdown",
   "metadata": {
    "id": "D6Ylw85uKA5L"
   },
   "source": [
    "**Quick peak**"
   ]
  },
  {
   "cell_type": "code",
   "execution_count": 207,
   "metadata": {
    "colab": {
     "base_uri": "https://localhost:8080/",
     "height": 241
    },
    "id": "guwM_8iFEXnk",
    "outputId": "cc2c8685-62b0-4381-a6c3-226d3b944b08"
   },
   "outputs": [
    {
     "data": {
      "text/html": [
       "<div>\n",
       "<style scoped>\n",
       "    .dataframe tbody tr th:only-of-type {\n",
       "        vertical-align: middle;\n",
       "    }\n",
       "\n",
       "    .dataframe tbody tr th {\n",
       "        vertical-align: top;\n",
       "    }\n",
       "\n",
       "    .dataframe thead th {\n",
       "        text-align: right;\n",
       "    }\n",
       "</style>\n",
       "<table border=\"1\" class=\"dataframe\">\n",
       "  <thead>\n",
       "    <tr style=\"text-align: right;\">\n",
       "      <th></th>\n",
       "      <th>No#</th>\n",
       "      <th>Brand</th>\n",
       "      <th>City</th>\n",
       "      <th>Year</th>\n",
       "      <th>StoreCount</th>\n",
       "    </tr>\n",
       "  </thead>\n",
       "  <tbody>\n",
       "    <tr>\n",
       "      <th>0</th>\n",
       "      <td>6</td>\n",
       "      <td>Cộng Cà Phê</td>\n",
       "      <td>Hải Phòng</td>\n",
       "      <td>2017</td>\n",
       "      <td>1</td>\n",
       "    </tr>\n",
       "    <tr>\n",
       "      <th>1</th>\n",
       "      <td>9</td>\n",
       "      <td>Cộng Cà Phê</td>\n",
       "      <td>Lào Cai</td>\n",
       "      <td>2017</td>\n",
       "      <td>1</td>\n",
       "    </tr>\n",
       "    <tr>\n",
       "      <th>2</th>\n",
       "      <td>10</td>\n",
       "      <td>Cộng Cà Phê</td>\n",
       "      <td>Nha Trang</td>\n",
       "      <td>2017</td>\n",
       "      <td>1</td>\n",
       "    </tr>\n",
       "    <tr>\n",
       "      <th>3</th>\n",
       "      <td>11</td>\n",
       "      <td>Cộng Cà Phê</td>\n",
       "      <td>Quảng Nam</td>\n",
       "      <td>2017</td>\n",
       "      <td>1</td>\n",
       "    </tr>\n",
       "    <tr>\n",
       "      <th>4</th>\n",
       "      <td>12</td>\n",
       "      <td>Cộng Cà Phê</td>\n",
       "      <td>Quảng Ninh</td>\n",
       "      <td>2017</td>\n",
       "      <td>1</td>\n",
       "    </tr>\n",
       "  </tbody>\n",
       "</table>\n",
       "</div>"
      ],
      "text/plain": [
       "   No#        Brand        City  Year  StoreCount\n",
       "0    6  Cộng Cà Phê   Hải Phòng  2017           1\n",
       "1    9  Cộng Cà Phê     Lào Cai  2017           1\n",
       "2   10  Cộng Cà Phê   Nha Trang  2017           1\n",
       "3   11  Cộng Cà Phê   Quảng Nam  2017           1\n",
       "4   12  Cộng Cà Phê  Quảng Ninh  2017           1"
      ]
     },
     "execution_count": 207,
     "metadata": {},
     "output_type": "execute_result"
    }
   ],
   "source": [
    "df = pd.read_csv(competitor_database_path,delimiter=\";\")\n",
    "df.head()"
   ]
  },
  {
   "cell_type": "markdown",
   "metadata": {
    "id": "BOYPCqyxKM-R"
   },
   "source": [
    "**Describe**"
   ]
  },
  {
   "cell_type": "code",
   "execution_count": 209,
   "metadata": {
    "colab": {
     "base_uri": "https://localhost:8080/",
     "height": 534
    },
    "id": "90iuuva6KXrZ",
    "outputId": "fd8cb61e-a39a-4cb8-de3f-fffcfc5e6ed3"
   },
   "outputs": [
    {
     "name": "stdout",
     "output_type": "stream",
     "text": [
      "row, col:  (234, 5)\n",
      "col names:  Index(['No#', 'Brand', 'City', 'Year', 'StoreCount'], dtype='object')\n",
      "Missing value: \n"
     ]
    },
    {
     "data": {
      "text/plain": [
       "No#           0\n",
       "Brand         0\n",
       "City          0\n",
       "Year          0\n",
       "StoreCount    0\n",
       "dtype: int64"
      ]
     },
     "metadata": {},
     "output_type": "display_data"
    },
    {
     "name": "stdout",
     "output_type": "stream",
     "text": [
      "Unique value per col:\n"
     ]
    },
    {
     "data": {
      "text/plain": [
       "No#           234\n",
       "Brand           6\n",
       "City           29\n",
       "Year            3\n",
       "StoreCount     38\n",
       "dtype: int64"
      ]
     },
     "metadata": {},
     "output_type": "display_data"
    }
   ],
   "source": [
    "print(\"row, col: \",df.shape)\n",
    "print(\"col names: \",df.columns)\n",
    "print(\"Missing value: \")\n",
    "display(df.isnull().sum())\n",
    "print(\"Unique value per col:\")\n",
    "display(df.nunique())"
   ]
  },
  {
   "cell_type": "code",
   "execution_count": null,
   "metadata": {},
   "outputs": [],
   "source": []
  },
  {
   "cell_type": "code",
   "execution_count": null,
   "metadata": {},
   "outputs": [],
   "source": []
  },
  {
   "cell_type": "markdown",
   "metadata": {
    "id": "YiFFWzcdFzu0"
   },
   "source": [
    "#### 6. Day of week"
   ]
  },
  {
   "cell_type": "markdown",
   "metadata": {
    "id": "Ww2_Va8NKBzG"
   },
   "source": [
    "**Quick peak**"
   ]
  },
  {
   "cell_type": "code",
   "execution_count": 212,
   "metadata": {
    "colab": {
     "base_uri": "https://localhost:8080/",
     "height": 206
    },
    "id": "NLaArWYXEYsC",
    "outputId": "e03579ec-60a3-4d16-bfd6-daee564b12b8"
   },
   "outputs": [
    {
     "data": {
      "text/html": [
       "<div>\n",
       "<style scoped>\n",
       "    .dataframe tbody tr th:only-of-type {\n",
       "        vertical-align: middle;\n",
       "    }\n",
       "\n",
       "    .dataframe tbody tr th {\n",
       "        vertical-align: top;\n",
       "    }\n",
       "\n",
       "    .dataframe thead th {\n",
       "        text-align: right;\n",
       "    }\n",
       "</style>\n",
       "<table border=\"1\" class=\"dataframe\">\n",
       "  <thead>\n",
       "    <tr style=\"text-align: right;\">\n",
       "      <th></th>\n",
       "      <th>ID</th>\n",
       "      <th>City</th>\n",
       "      <th>Dayofweek</th>\n",
       "      <th>Visit#Dayofweek</th>\n",
       "      <th>Year</th>\n",
       "      <th>Weekday#end</th>\n",
       "    </tr>\n",
       "  </thead>\n",
       "  <tbody>\n",
       "    <tr>\n",
       "      <th>0</th>\n",
       "      <td>344625</td>\n",
       "      <td>Cần Thơ</td>\n",
       "      <td>Monday</td>\n",
       "      <td>4.0</td>\n",
       "      <td>2018</td>\n",
       "      <td>Weekdays</td>\n",
       "    </tr>\n",
       "    <tr>\n",
       "      <th>1</th>\n",
       "      <td>345343</td>\n",
       "      <td>Cần Thơ</td>\n",
       "      <td>Monday</td>\n",
       "      <td>4.0</td>\n",
       "      <td>2018</td>\n",
       "      <td>Weekdays</td>\n",
       "    </tr>\n",
       "    <tr>\n",
       "      <th>2</th>\n",
       "      <td>346249</td>\n",
       "      <td>Cần Thơ</td>\n",
       "      <td>Monday</td>\n",
       "      <td>4.0</td>\n",
       "      <td>2018</td>\n",
       "      <td>Weekdays</td>\n",
       "    </tr>\n",
       "    <tr>\n",
       "      <th>3</th>\n",
       "      <td>346725</td>\n",
       "      <td>Cần Thơ</td>\n",
       "      <td>Monday</td>\n",
       "      <td>4.0</td>\n",
       "      <td>2018</td>\n",
       "      <td>Weekdays</td>\n",
       "    </tr>\n",
       "    <tr>\n",
       "      <th>4</th>\n",
       "      <td>346833</td>\n",
       "      <td>Cần Thơ</td>\n",
       "      <td>Monday</td>\n",
       "      <td>4.0</td>\n",
       "      <td>2018</td>\n",
       "      <td>Weekdays</td>\n",
       "    </tr>\n",
       "  </tbody>\n",
       "</table>\n",
       "</div>"
      ],
      "text/plain": [
       "       ID     City Dayofweek  Visit#Dayofweek  Year Weekday#end\n",
       "0  344625  Cần Thơ    Monday              4.0  2018    Weekdays\n",
       "1  345343  Cần Thơ    Monday              4.0  2018    Weekdays\n",
       "2  346249  Cần Thơ    Monday              4.0  2018    Weekdays\n",
       "3  346725  Cần Thơ    Monday              4.0  2018    Weekdays\n",
       "4  346833  Cần Thơ    Monday              4.0  2018    Weekdays"
      ]
     },
     "execution_count": 212,
     "metadata": {},
     "output_type": "execute_result"
    }
   ],
   "source": [
    "df = pd.read_csv(day_of_week_path,delimiter=\";\")\n",
    "df.head()"
   ]
  },
  {
   "cell_type": "markdown",
   "metadata": {
    "id": "-3CMmElMKNrg"
   },
   "source": [
    "**Describe**"
   ]
  },
  {
   "cell_type": "code",
   "execution_count": 214,
   "metadata": {},
   "outputs": [
    {
     "name": "stdout",
     "output_type": "stream",
     "text": [
      "Unique IDs in 2017: 3685\n"
     ]
    }
   ],
   "source": [
    "df = pd.read_csv(day_of_week_path,delimiter=\";\")\n",
    "\n",
    "unique_ids_2017 = df[df['Year'] == 2017]['ID'].nunique()\n",
    "print(f\"Unique IDs in 2017: {unique_ids_2017}\")"
   ]
  },
  {
   "cell_type": "code",
   "execution_count": 215,
   "metadata": {
    "colab": {
     "base_uri": "https://localhost:8080/",
     "height": 597
    },
    "id": "JORsd1SWKdMv",
    "outputId": "d1d26bf4-e401-488e-8053-0dc416ba1b37"
   },
   "outputs": [
    {
     "name": "stdout",
     "output_type": "stream",
     "text": [
      "row, col:  (39095, 6)\n",
      "col names:  Index(['ID', 'City', 'Dayofweek', 'Visit#Dayofweek', 'Year', 'Weekday#end'], dtype='object')\n",
      "Missing value: \n"
     ]
    },
    {
     "data": {
      "text/plain": [
       "ID                  0\n",
       "City                0\n",
       "Dayofweek          86\n",
       "Visit#Dayofweek    54\n",
       "Year                0\n",
       "Weekday#end        86\n",
       "dtype: int64"
      ]
     },
     "metadata": {},
     "output_type": "display_data"
    },
    {
     "name": "stdout",
     "output_type": "stream",
     "text": [
      "Unique value per col:\n"
     ]
    },
    {
     "data": {
      "text/plain": [
       "ID                 11761\n",
       "City                   6\n",
       "Dayofweek              7\n",
       "Visit#Dayofweek       26\n",
       "Year                   3\n",
       "Weekday#end            2\n",
       "dtype: int64"
      ]
     },
     "metadata": {},
     "output_type": "display_data"
    }
   ],
   "source": [
    "print(\"row, col: \",df.shape)\n",
    "print(\"col names: \",df.columns)\n",
    "print(\"Missing value: \")\n",
    "display(df.isnull().sum())\n",
    "print(\"Unique value per col:\")\n",
    "display(df.nunique())"
   ]
  },
  {
   "cell_type": "markdown",
   "metadata": {
    "id": "VM1MW40ZFz6x"
   },
   "source": [
    "#### 7. Day part"
   ]
  },
  {
   "cell_type": "markdown",
   "metadata": {
    "id": "RIsNDx8SKCpp"
   },
   "source": [
    "**Quick peak**"
   ]
  },
  {
   "cell_type": "code",
   "execution_count": 285,
   "metadata": {
    "colab": {
     "base_uri": "https://localhost:8080/",
     "height": 206
    },
    "id": "T7R8_suqEYyx",
    "outputId": "81a978e4-d521-478c-8e60-70093867423e"
   },
   "outputs": [
    {
     "data": {
      "text/html": [
       "<div>\n",
       "<style scoped>\n",
       "    .dataframe tbody tr th:only-of-type {\n",
       "        vertical-align: middle;\n",
       "    }\n",
       "\n",
       "    .dataframe tbody tr th {\n",
       "        vertical-align: top;\n",
       "    }\n",
       "\n",
       "    .dataframe thead th {\n",
       "        text-align: right;\n",
       "    }\n",
       "</style>\n",
       "<table border=\"1\" class=\"dataframe\">\n",
       "  <thead>\n",
       "    <tr style=\"text-align: right;\">\n",
       "      <th></th>\n",
       "      <th>ID</th>\n",
       "      <th>City</th>\n",
       "      <th>Daypart</th>\n",
       "      <th>Visit#Daypart</th>\n",
       "      <th>Year</th>\n",
       "    </tr>\n",
       "  </thead>\n",
       "  <tbody>\n",
       "    <tr>\n",
       "      <th>0</th>\n",
       "      <td>729674</td>\n",
       "      <td>Hà Nội</td>\n",
       "      <td>5 PM - before 9 PM</td>\n",
       "      <td>2.0</td>\n",
       "      <td>2019</td>\n",
       "    </tr>\n",
       "    <tr>\n",
       "      <th>1</th>\n",
       "      <td>730472</td>\n",
       "      <td>Hà Nội</td>\n",
       "      <td>5 PM - before 9 PM</td>\n",
       "      <td>2.0</td>\n",
       "      <td>2019</td>\n",
       "    </tr>\n",
       "    <tr>\n",
       "      <th>2</th>\n",
       "      <td>732361</td>\n",
       "      <td>Hà Nội</td>\n",
       "      <td>5 PM - before 9 PM</td>\n",
       "      <td>2.0</td>\n",
       "      <td>2019</td>\n",
       "    </tr>\n",
       "    <tr>\n",
       "      <th>3</th>\n",
       "      <td>732732</td>\n",
       "      <td>Hà Nội</td>\n",
       "      <td>5 PM - before 9 PM</td>\n",
       "      <td>2.0</td>\n",
       "      <td>2019</td>\n",
       "    </tr>\n",
       "    <tr>\n",
       "      <th>4</th>\n",
       "      <td>733574</td>\n",
       "      <td>Hà Nội</td>\n",
       "      <td>5 PM - before 9 PM</td>\n",
       "      <td>2.0</td>\n",
       "      <td>2019</td>\n",
       "    </tr>\n",
       "  </tbody>\n",
       "</table>\n",
       "</div>"
      ],
      "text/plain": [
       "       ID    City             Daypart  Visit#Daypart  Year\n",
       "0  729674  Hà Nội  5 PM - before 9 PM            2.0  2019\n",
       "1  730472  Hà Nội  5 PM - before 9 PM            2.0  2019\n",
       "2  732361  Hà Nội  5 PM - before 9 PM            2.0  2019\n",
       "3  732732  Hà Nội  5 PM - before 9 PM            2.0  2019\n",
       "4  733574  Hà Nội  5 PM - before 9 PM            2.0  2019"
      ]
     },
     "execution_count": 285,
     "metadata": {},
     "output_type": "execute_result"
    }
   ],
   "source": [
    "df = pd.read_csv(day_part_path,delimiter=\";\")\n",
    "df.head()"
   ]
  },
  {
   "cell_type": "markdown",
   "metadata": {
    "id": "tSpLmJxpKORs"
   },
   "source": [
    "**Describe**"
   ]
  },
  {
   "cell_type": "code",
   "execution_count": 288,
   "metadata": {
    "colab": {
     "base_uri": "https://localhost:8080/",
     "height": 534
    },
    "id": "cWdPPruGKfzc",
    "outputId": "4509abc1-fc24-4141-ec5b-e90aef1a341e"
   },
   "outputs": [
    {
     "name": "stdout",
     "output_type": "stream",
     "text": [
      "row, col:  (19189, 5)\n",
      "col names:  Index(['ID', 'City', 'Daypart', 'Visit#Daypart', 'Year'], dtype='object')\n",
      "Missing value: \n"
     ]
    },
    {
     "data": {
      "text/plain": [
       "ID                 0\n",
       "City               0\n",
       "Daypart           13\n",
       "Visit#Daypart    847\n",
       "Year               0\n",
       "dtype: int64"
      ]
     },
     "metadata": {},
     "output_type": "display_data"
    },
    {
     "name": "stdout",
     "output_type": "stream",
     "text": [
      "Unique value per col:\n"
     ]
    },
    {
     "data": {
      "text/plain": [
       "ID               11761\n",
       "City                 6\n",
       "Daypart              6\n",
       "Visit#Daypart       39\n",
       "Year                 3\n",
       "dtype: int64"
      ]
     },
     "metadata": {},
     "output_type": "display_data"
    }
   ],
   "source": [
    "print(\"row, col: \",df.shape)\n",
    "print(\"col names: \",df.columns)\n",
    "print(\"Missing value: \")\n",
    "display(df.isnull().sum())\n",
    "print(\"Unique value per col:\")\n",
    "display(df.nunique())"
   ]
  },
  {
   "cell_type": "markdown",
   "metadata": {
    "id": "z7n6S402F0GG"
   },
   "source": [
    "#### 8. Need state day part"
   ]
  },
  {
   "cell_type": "markdown",
   "metadata": {
    "id": "FsSqp5k3KDSb"
   },
   "source": [
    "**Quick peak**"
   ]
  },
  {
   "cell_type": "code",
   "execution_count": 223,
   "metadata": {
    "colab": {
     "base_uri": "https://localhost:8080/",
     "height": 206
    },
    "id": "IW8VJ2CWEY1s",
    "outputId": "5f180983-bf45-4a8d-9dd3-40f2933bab31"
   },
   "outputs": [
    {
     "data": {
      "text/html": [
       "<div>\n",
       "<style scoped>\n",
       "    .dataframe tbody tr th:only-of-type {\n",
       "        vertical-align: middle;\n",
       "    }\n",
       "\n",
       "    .dataframe tbody tr th {\n",
       "        vertical-align: top;\n",
       "    }\n",
       "\n",
       "    .dataframe thead th {\n",
       "        text-align: right;\n",
       "    }\n",
       "</style>\n",
       "<table border=\"1\" class=\"dataframe\">\n",
       "  <thead>\n",
       "    <tr style=\"text-align: right;\">\n",
       "      <th></th>\n",
       "      <th>ID</th>\n",
       "      <th>City</th>\n",
       "      <th>Year</th>\n",
       "      <th>Needstates</th>\n",
       "      <th>Day#Daypart</th>\n",
       "      <th>NeedstateGroup</th>\n",
       "    </tr>\n",
       "  </thead>\n",
       "  <tbody>\n",
       "    <tr>\n",
       "      <th>0</th>\n",
       "      <td>725118</td>\n",
       "      <td>Hà Nội</td>\n",
       "      <td>2019</td>\n",
       "      <td>Drinking coffee</td>\n",
       "      <td>Overall</td>\n",
       "      <td>Drinking beverages</td>\n",
       "    </tr>\n",
       "    <tr>\n",
       "      <th>1</th>\n",
       "      <td>725466</td>\n",
       "      <td>Hà Nội</td>\n",
       "      <td>2019</td>\n",
       "      <td>Drinking coffee</td>\n",
       "      <td>Overall</td>\n",
       "      <td>Drinking beverages</td>\n",
       "    </tr>\n",
       "    <tr>\n",
       "      <th>2</th>\n",
       "      <td>726561</td>\n",
       "      <td>Hà Nội</td>\n",
       "      <td>2019</td>\n",
       "      <td>Drinking coffee</td>\n",
       "      <td>Overall</td>\n",
       "      <td>Drinking beverages</td>\n",
       "    </tr>\n",
       "    <tr>\n",
       "      <th>3</th>\n",
       "      <td>726862</td>\n",
       "      <td>Hà Nội</td>\n",
       "      <td>2019</td>\n",
       "      <td>Drinking coffee</td>\n",
       "      <td>Overall</td>\n",
       "      <td>Drinking beverages</td>\n",
       "    </tr>\n",
       "    <tr>\n",
       "      <th>4</th>\n",
       "      <td>727015</td>\n",
       "      <td>Hà Nội</td>\n",
       "      <td>2019</td>\n",
       "      <td>Drinking coffee</td>\n",
       "      <td>Overall</td>\n",
       "      <td>Drinking beverages</td>\n",
       "    </tr>\n",
       "  </tbody>\n",
       "</table>\n",
       "</div>"
      ],
      "text/plain": [
       "       ID    City  Year       Needstates Day#Daypart      NeedstateGroup\n",
       "0  725118  Hà Nội  2019  Drinking coffee     Overall  Drinking beverages\n",
       "1  725466  Hà Nội  2019  Drinking coffee     Overall  Drinking beverages\n",
       "2  726561  Hà Nội  2019  Drinking coffee     Overall  Drinking beverages\n",
       "3  726862  Hà Nội  2019  Drinking coffee     Overall  Drinking beverages\n",
       "4  727015  Hà Nội  2019  Drinking coffee     Overall  Drinking beverages"
      ]
     },
     "execution_count": 223,
     "metadata": {},
     "output_type": "execute_result"
    }
   ],
   "source": [
    "df = pd.read_csv(need_state_day_part_path,delimiter=\";\")\n",
    "df.head()"
   ]
  },
  {
   "cell_type": "markdown",
   "metadata": {
    "id": "1PnFzr_WKO4v"
   },
   "source": [
    "**Describe**"
   ]
  },
  {
   "cell_type": "code",
   "execution_count": 225,
   "metadata": {
    "colab": {
     "base_uri": "https://localhost:8080/",
     "height": 597
    },
    "id": "spPDyzm1KhVS",
    "outputId": "16fae139-422f-4fda-d3a6-fea531b479bc"
   },
   "outputs": [
    {
     "name": "stdout",
     "output_type": "stream",
     "text": [
      "row, col:  (75251, 6)\n",
      "col names:  Index(['ID', 'City', 'Year', 'Needstates', 'Day#Daypart', 'NeedstateGroup'], dtype='object')\n",
      "Missing value: \n"
     ]
    },
    {
     "data": {
      "text/plain": [
       "ID                0\n",
       "City              0\n",
       "Year              0\n",
       "Needstates        0\n",
       "Day#Daypart       0\n",
       "NeedstateGroup    0\n",
       "dtype: int64"
      ]
     },
     "metadata": {},
     "output_type": "display_data"
    },
    {
     "name": "stdout",
     "output_type": "stream",
     "text": [
      "Unique value per col:\n"
     ]
    },
    {
     "data": {
      "text/plain": [
       "ID                11740\n",
       "City                  6\n",
       "Year                  3\n",
       "Needstates           15\n",
       "Day#Daypart           9\n",
       "NeedstateGroup        6\n",
       "dtype: int64"
      ]
     },
     "metadata": {},
     "output_type": "display_data"
    }
   ],
   "source": [
    "print(\"row, col: \",df.shape)\n",
    "print(\"col names: \",df.columns)\n",
    "print(\"Missing value: \")\n",
    "display(df.isnull().sum())\n",
    "print(\"Unique value per col:\")\n",
    "display(df.nunique())"
   ]
  },
  {
   "cell_type": "markdown",
   "metadata": {
    "id": "aUmBEr1mF0R2"
   },
   "source": [
    "#### 9. SA var"
   ]
  },
  {
   "cell_type": "markdown",
   "metadata": {
    "id": "7qnd1gIjKD_-"
   },
   "source": [
    "**Quick peak**"
   ]
  },
  {
   "cell_type": "code",
   "execution_count": 228,
   "metadata": {
    "colab": {
     "base_uri": "https://localhost:8080/",
     "height": 293
    },
    "id": "lNleTdxIEY4Z",
    "outputId": "ba4aa536-9daa-466c-ed71-8027218d17f6"
   },
   "outputs": [
    {
     "data": {
      "text/html": [
       "<div>\n",
       "<style scoped>\n",
       "    .dataframe tbody tr th:only-of-type {\n",
       "        vertical-align: middle;\n",
       "    }\n",
       "\n",
       "    .dataframe tbody tr th {\n",
       "        vertical-align: top;\n",
       "    }\n",
       "\n",
       "    .dataframe thead th {\n",
       "        text-align: right;\n",
       "    }\n",
       "</style>\n",
       "<table border=\"1\" class=\"dataframe\">\n",
       "  <thead>\n",
       "    <tr style=\"text-align: right;\">\n",
       "      <th></th>\n",
       "      <th>ID</th>\n",
       "      <th>City</th>\n",
       "      <th>Group_size</th>\n",
       "      <th>Age</th>\n",
       "      <th>MPI#Mean</th>\n",
       "      <th>TOM</th>\n",
       "      <th>BUMO</th>\n",
       "      <th>BUMO_Previous</th>\n",
       "      <th>MostFavourite</th>\n",
       "      <th>Gender</th>\n",
       "      <th>MPI#detail</th>\n",
       "      <th>Age#group</th>\n",
       "      <th>Age#Group#2</th>\n",
       "      <th>MPI</th>\n",
       "      <th>MPI#2</th>\n",
       "      <th>Occupation</th>\n",
       "      <th>Occupation#group</th>\n",
       "      <th>Year</th>\n",
       "      <th>Col</th>\n",
       "      <th>MPI_Mean_Use</th>\n",
       "    </tr>\n",
       "  </thead>\n",
       "  <tbody>\n",
       "    <tr>\n",
       "      <th>0</th>\n",
       "      <td>348226</td>\n",
       "      <td>Cần Thơ</td>\n",
       "      <td>3.0</td>\n",
       "      <td>29.0</td>\n",
       "      <td>5499.0</td>\n",
       "      <td>Other 1</td>\n",
       "      <td>Other 1</td>\n",
       "      <td>NaN</td>\n",
       "      <td>Other 1</td>\n",
       "      <td>Female</td>\n",
       "      <td>From 4.5 millions to 6.49 millions VND</td>\n",
       "      <td>20 - 29</td>\n",
       "      <td>25 - 29 y.o.</td>\n",
       "      <td>VND 4.5m - VND 8.9m</td>\n",
       "      <td>2.VND 4.5m - VND 8.9m</td>\n",
       "      <td>Unskilled Labor (worker, landry person, driver...</td>\n",
       "      <td>Blue Collar</td>\n",
       "      <td>2018</td>\n",
       "      <td>3</td>\n",
       "      <td>5499.0</td>\n",
       "    </tr>\n",
       "    <tr>\n",
       "      <th>1</th>\n",
       "      <td>358485</td>\n",
       "      <td>Hà Nội</td>\n",
       "      <td>3.0</td>\n",
       "      <td>25.0</td>\n",
       "      <td>5499.0</td>\n",
       "      <td>Other 1</td>\n",
       "      <td>Other 1</td>\n",
       "      <td>NaN</td>\n",
       "      <td>Other 1</td>\n",
       "      <td>Male</td>\n",
       "      <td>From 4.5 millions to 6.49 millions VND</td>\n",
       "      <td>20 - 29</td>\n",
       "      <td>25 - 29 y.o.</td>\n",
       "      <td>VND 4.5m - VND 8.9m</td>\n",
       "      <td>2.VND 4.5m - VND 8.9m</td>\n",
       "      <td>Unskilled Labor (worker, landry person, driver...</td>\n",
       "      <td>Blue Collar</td>\n",
       "      <td>2018</td>\n",
       "      <td>3</td>\n",
       "      <td>5499.0</td>\n",
       "    </tr>\n",
       "    <tr>\n",
       "      <th>2</th>\n",
       "      <td>360729</td>\n",
       "      <td>Cần Thơ</td>\n",
       "      <td>3.0</td>\n",
       "      <td>25.0</td>\n",
       "      <td>5499.0</td>\n",
       "      <td>Other 1</td>\n",
       "      <td>Other 1</td>\n",
       "      <td>NaN</td>\n",
       "      <td>Other 1</td>\n",
       "      <td>Female</td>\n",
       "      <td>From 4.5 millions to 6.49 millions VND</td>\n",
       "      <td>20 - 29</td>\n",
       "      <td>25 - 29 y.o.</td>\n",
       "      <td>VND 4.5m - VND 8.9m</td>\n",
       "      <td>2.VND 4.5m - VND 8.9m</td>\n",
       "      <td>Unskilled Labor (worker, landry person, driver...</td>\n",
       "      <td>Blue Collar</td>\n",
       "      <td>2018</td>\n",
       "      <td>3</td>\n",
       "      <td>5499.0</td>\n",
       "    </tr>\n",
       "    <tr>\n",
       "      <th>3</th>\n",
       "      <td>360737</td>\n",
       "      <td>Cần Thơ</td>\n",
       "      <td>3.0</td>\n",
       "      <td>24.0</td>\n",
       "      <td>5499.0</td>\n",
       "      <td>Other 1</td>\n",
       "      <td>Other 1</td>\n",
       "      <td>NaN</td>\n",
       "      <td>Other 1</td>\n",
       "      <td>Male</td>\n",
       "      <td>From 4.5 millions to 6.49 millions VND</td>\n",
       "      <td>20 - 29</td>\n",
       "      <td>20 - 24 y.o.</td>\n",
       "      <td>VND 4.5m - VND 8.9m</td>\n",
       "      <td>2.VND 4.5m - VND 8.9m</td>\n",
       "      <td>Skilled Labor (tailor, machinist, carpenter, e...</td>\n",
       "      <td>Blue Collar</td>\n",
       "      <td>2018</td>\n",
       "      <td>3</td>\n",
       "      <td>5499.0</td>\n",
       "    </tr>\n",
       "    <tr>\n",
       "      <th>4</th>\n",
       "      <td>361753</td>\n",
       "      <td>Cần Thơ</td>\n",
       "      <td>3.0</td>\n",
       "      <td>26.0</td>\n",
       "      <td>5499.0</td>\n",
       "      <td>Other 1</td>\n",
       "      <td>Other 1</td>\n",
       "      <td>NaN</td>\n",
       "      <td>Other 1</td>\n",
       "      <td>Male</td>\n",
       "      <td>From 4.5 millions to 6.49 millions VND</td>\n",
       "      <td>20 - 29</td>\n",
       "      <td>25 - 29 y.o.</td>\n",
       "      <td>VND 4.5m - VND 8.9m</td>\n",
       "      <td>2.VND 4.5m - VND 8.9m</td>\n",
       "      <td>Semi-skilled labor (salesperson, waiter, photo...</td>\n",
       "      <td>Blue Collar</td>\n",
       "      <td>2018</td>\n",
       "      <td>3</td>\n",
       "      <td>5499.0</td>\n",
       "    </tr>\n",
       "  </tbody>\n",
       "</table>\n",
       "</div>"
      ],
      "text/plain": [
       "       ID     City  Group_size   Age  MPI#Mean      TOM     BUMO  \\\n",
       "0  348226  Cần Thơ         3.0  29.0    5499.0  Other 1  Other 1   \n",
       "1  358485   Hà Nội         3.0  25.0    5499.0  Other 1  Other 1   \n",
       "2  360729  Cần Thơ         3.0  25.0    5499.0  Other 1  Other 1   \n",
       "3  360737  Cần Thơ         3.0  24.0    5499.0  Other 1  Other 1   \n",
       "4  361753  Cần Thơ         3.0  26.0    5499.0  Other 1  Other 1   \n",
       "\n",
       "  BUMO_Previous MostFavourite  Gender                              MPI#detail  \\\n",
       "0           NaN       Other 1  Female  From 4.5 millions to 6.49 millions VND   \n",
       "1           NaN       Other 1    Male  From 4.5 millions to 6.49 millions VND   \n",
       "2           NaN       Other 1  Female  From 4.5 millions to 6.49 millions VND   \n",
       "3           NaN       Other 1    Male  From 4.5 millions to 6.49 millions VND   \n",
       "4           NaN       Other 1    Male  From 4.5 millions to 6.49 millions VND   \n",
       "\n",
       "  Age#group   Age#Group#2                  MPI                  MPI#2  \\\n",
       "0   20 - 29  25 - 29 y.o.  VND 4.5m - VND 8.9m  2.VND 4.5m - VND 8.9m   \n",
       "1   20 - 29  25 - 29 y.o.  VND 4.5m - VND 8.9m  2.VND 4.5m - VND 8.9m   \n",
       "2   20 - 29  25 - 29 y.o.  VND 4.5m - VND 8.9m  2.VND 4.5m - VND 8.9m   \n",
       "3   20 - 29  20 - 24 y.o.  VND 4.5m - VND 8.9m  2.VND 4.5m - VND 8.9m   \n",
       "4   20 - 29  25 - 29 y.o.  VND 4.5m - VND 8.9m  2.VND 4.5m - VND 8.9m   \n",
       "\n",
       "                                          Occupation Occupation#group  Year  \\\n",
       "0  Unskilled Labor (worker, landry person, driver...      Blue Collar  2018   \n",
       "1  Unskilled Labor (worker, landry person, driver...      Blue Collar  2018   \n",
       "2  Unskilled Labor (worker, landry person, driver...      Blue Collar  2018   \n",
       "3  Skilled Labor (tailor, machinist, carpenter, e...      Blue Collar  2018   \n",
       "4  Semi-skilled labor (salesperson, waiter, photo...      Blue Collar  2018   \n",
       "\n",
       "   Col  MPI_Mean_Use  \n",
       "0    3        5499.0  \n",
       "1    3        5499.0  \n",
       "2    3        5499.0  \n",
       "3    3        5499.0  \n",
       "4    3        5499.0  "
      ]
     },
     "execution_count": 228,
     "metadata": {},
     "output_type": "execute_result"
    }
   ],
   "source": [
    "df = pd.read_csv(sa_var_path,delimiter=\";\")\n",
    "df.head()"
   ]
  },
  {
   "cell_type": "markdown",
   "metadata": {
    "id": "FXRAFHL3KQA1"
   },
   "source": [
    "**Describe**"
   ]
  },
  {
   "cell_type": "code",
   "execution_count": 230,
   "metadata": {
    "colab": {
     "base_uri": "https://localhost:8080/",
     "height": 1000
    },
    "id": "bqCmRKJMKiaY",
    "outputId": "b6452522-d7fa-49f8-ac2c-8facf51a3b13"
   },
   "outputs": [
    {
     "name": "stdout",
     "output_type": "stream",
     "text": [
      "row, col:  (11761, 20)\n",
      "col names:  Index(['ID', 'City', 'Group_size', 'Age', 'MPI#Mean', 'TOM', 'BUMO',\n",
      "       'BUMO_Previous', 'MostFavourite', 'Gender', 'MPI#detail', 'Age#group',\n",
      "       'Age#Group#2', 'MPI', 'MPI#2', 'Occupation', 'Occupation#group', 'Year',\n",
      "       'Col', 'MPI_Mean_Use'],\n",
      "      dtype='object')\n",
      "Missing value: \n"
     ]
    },
    {
     "data": {
      "text/plain": [
       "ID                     0\n",
       "City                   0\n",
       "Group_size            15\n",
       "Age                    9\n",
       "MPI#Mean            3717\n",
       "TOM                    0\n",
       "BUMO                   0\n",
       "BUMO_Previous       5665\n",
       "MostFavourite          0\n",
       "Gender                 0\n",
       "MPI#detail          3685\n",
       "Age#group              9\n",
       "Age#Group#2            9\n",
       "MPI                 3717\n",
       "MPI#2               3717\n",
       "Occupation             0\n",
       "Occupation#group       0\n",
       "Year                   0\n",
       "Col                    0\n",
       "MPI_Mean_Use        3717\n",
       "dtype: int64"
      ]
     },
     "metadata": {},
     "output_type": "display_data"
    },
    {
     "name": "stdout",
     "output_type": "stream",
     "text": [
      "Unique value per col:\n"
     ]
    },
    {
     "data": {
      "text/plain": [
       "ID                  11761\n",
       "City                    6\n",
       "Group_size             16\n",
       "Age                    45\n",
       "MPI#Mean               13\n",
       "TOM                    32\n",
       "BUMO                   33\n",
       "BUMO_Previous          32\n",
       "MostFavourite          34\n",
       "Gender                  2\n",
       "MPI#detail             14\n",
       "Age#group               4\n",
       "Age#Group#2             7\n",
       "MPI                     5\n",
       "MPI#2                   5\n",
       "Occupation             28\n",
       "Occupation#group        7\n",
       "Year                    3\n",
       "Col                     6\n",
       "MPI_Mean_Use           13\n",
       "dtype: int64"
      ]
     },
     "metadata": {},
     "output_type": "display_data"
    }
   ],
   "source": [
    "print(\"row, col: \",df.shape)\n",
    "print(\"col names: \",df.columns)\n",
    "print(\"Missing value: \")\n",
    "display(df.isnull().sum())\n",
    "print(\"Unique value per col:\")\n",
    "display(df.nunique())"
   ]
  },
  {
   "cell_type": "markdown",
   "metadata": {
    "id": "OMs7sUtbH-2f"
   },
   "source": [
    "## ***3. Test tampering data***"
   ]
  },
  {
   "cell_type": "markdown",
   "metadata": {
    "id": "xYt1VTcCL5Lx"
   },
   "source": [
    "### Data path"
   ]
  },
  {
   "cell_type": "code",
   "execution_count": 233,
   "metadata": {
    "id": "PoK93wudL6T8"
   },
   "outputs": [],
   "source": [
    "import pandas as pd\n",
    "\n",
    "data_path = './Data_working/'\n",
    "segment_path = data_path + '2017Segmentation3685case.csv'\n",
    "brand_image_path = data_path + 'Brand_Image.csv'\n",
    "brand_health_path = data_path + 'Brandhealth.csv'\n",
    "companion_path = data_path + 'Companion.csv'\n",
    "competitor_database_path = data_path + 'Competitor database_xlnm#_FilterDatabase.csv'\n",
    "day_of_week_path = data_path + 'Dayofweek.csv'\n",
    "day_part_path = data_path + 'Daypart.csv'\n",
    "need_state_day_part_path = data_path + 'NeedstateDayDaypart.csv'\n",
    "sa_var_path = data_path + 'SA#var.csv'"
   ]
  },
  {
   "cell_type": "markdown",
   "metadata": {
    "id": "CReHmsQgMMiw"
   },
   "source": [
    "### Tampering with Competitor db( least row)"
   ]
  },
  {
   "cell_type": "code",
   "execution_count": 235,
   "metadata": {
    "id": "mD3uTPiXMNME"
   },
   "outputs": [],
   "source": [
    "df = pd.read_csv(competitor_database_path,delimiter=\";\")"
   ]
  },
  {
   "cell_type": "code",
   "execution_count": 236,
   "metadata": {
    "id": "67jsysRUMnY8"
   },
   "outputs": [],
   "source": [
    "df['new_column'] = 'test_value'\n",
    "output_path = competitor_database_path\n",
    "df.to_csv(output_path,index=False,sep=';')"
   ]
  },
  {
   "cell_type": "code",
   "execution_count": 237,
   "metadata": {
    "colab": {
     "base_uri": "https://localhost:8080/",
     "height": 206
    },
    "id": "yrAFnOgrPyFn",
    "outputId": "40db4778-05a9-4257-a555-90b205424305"
   },
   "outputs": [
    {
     "data": {
      "text/html": [
       "<div>\n",
       "<style scoped>\n",
       "    .dataframe tbody tr th:only-of-type {\n",
       "        vertical-align: middle;\n",
       "    }\n",
       "\n",
       "    .dataframe tbody tr th {\n",
       "        vertical-align: top;\n",
       "    }\n",
       "\n",
       "    .dataframe thead th {\n",
       "        text-align: right;\n",
       "    }\n",
       "</style>\n",
       "<table border=\"1\" class=\"dataframe\">\n",
       "  <thead>\n",
       "    <tr style=\"text-align: right;\">\n",
       "      <th></th>\n",
       "      <th>No#</th>\n",
       "      <th>Brand</th>\n",
       "      <th>City</th>\n",
       "      <th>Year</th>\n",
       "      <th>StoreCount</th>\n",
       "      <th>new_column</th>\n",
       "    </tr>\n",
       "  </thead>\n",
       "  <tbody>\n",
       "    <tr>\n",
       "      <th>0</th>\n",
       "      <td>6</td>\n",
       "      <td>Cộng Cà Phê</td>\n",
       "      <td>Hải Phòng</td>\n",
       "      <td>2017</td>\n",
       "      <td>1</td>\n",
       "      <td>test_value</td>\n",
       "    </tr>\n",
       "    <tr>\n",
       "      <th>1</th>\n",
       "      <td>9</td>\n",
       "      <td>Cộng Cà Phê</td>\n",
       "      <td>Lào Cai</td>\n",
       "      <td>2017</td>\n",
       "      <td>1</td>\n",
       "      <td>test_value</td>\n",
       "    </tr>\n",
       "    <tr>\n",
       "      <th>2</th>\n",
       "      <td>10</td>\n",
       "      <td>Cộng Cà Phê</td>\n",
       "      <td>Nha Trang</td>\n",
       "      <td>2017</td>\n",
       "      <td>1</td>\n",
       "      <td>test_value</td>\n",
       "    </tr>\n",
       "    <tr>\n",
       "      <th>3</th>\n",
       "      <td>11</td>\n",
       "      <td>Cộng Cà Phê</td>\n",
       "      <td>Quảng Nam</td>\n",
       "      <td>2017</td>\n",
       "      <td>1</td>\n",
       "      <td>test_value</td>\n",
       "    </tr>\n",
       "    <tr>\n",
       "      <th>4</th>\n",
       "      <td>12</td>\n",
       "      <td>Cộng Cà Phê</td>\n",
       "      <td>Quảng Ninh</td>\n",
       "      <td>2017</td>\n",
       "      <td>1</td>\n",
       "      <td>test_value</td>\n",
       "    </tr>\n",
       "  </tbody>\n",
       "</table>\n",
       "</div>"
      ],
      "text/plain": [
       "   No#        Brand        City  Year  StoreCount  new_column\n",
       "0    6  Cộng Cà Phê   Hải Phòng  2017           1  test_value\n",
       "1    9  Cộng Cà Phê     Lào Cai  2017           1  test_value\n",
       "2   10  Cộng Cà Phê   Nha Trang  2017           1  test_value\n",
       "3   11  Cộng Cà Phê   Quảng Nam  2017           1  test_value\n",
       "4   12  Cộng Cà Phê  Quảng Ninh  2017           1  test_value"
      ]
     },
     "execution_count": 237,
     "metadata": {},
     "output_type": "execute_result"
    }
   ],
   "source": [
    "df = pd.read_csv(competitor_database_path,delimiter=\";\")\n",
    "df.head()"
   ]
  },
  {
   "cell_type": "code",
   "execution_count": 238,
   "metadata": {
    "id": "TgN3fceUMoww"
   },
   "outputs": [],
   "source": [
    "df.drop(columns=['new_column'], inplace=True)\n",
    "df.to_csv(output_path,index=False,sep=\";\")"
   ]
  },
  {
   "cell_type": "code",
   "execution_count": 239,
   "metadata": {
    "colab": {
     "base_uri": "https://localhost:8080/",
     "height": 206
    },
    "id": "SOVNKkfGOt3Q",
    "outputId": "b72135b9-bd86-48ff-acf8-3a63c754166b"
   },
   "outputs": [
    {
     "data": {
      "text/html": [
       "<div>\n",
       "<style scoped>\n",
       "    .dataframe tbody tr th:only-of-type {\n",
       "        vertical-align: middle;\n",
       "    }\n",
       "\n",
       "    .dataframe tbody tr th {\n",
       "        vertical-align: top;\n",
       "    }\n",
       "\n",
       "    .dataframe thead th {\n",
       "        text-align: right;\n",
       "    }\n",
       "</style>\n",
       "<table border=\"1\" class=\"dataframe\">\n",
       "  <thead>\n",
       "    <tr style=\"text-align: right;\">\n",
       "      <th></th>\n",
       "      <th>No#</th>\n",
       "      <th>Brand</th>\n",
       "      <th>City</th>\n",
       "      <th>Year</th>\n",
       "      <th>StoreCount</th>\n",
       "    </tr>\n",
       "  </thead>\n",
       "  <tbody>\n",
       "    <tr>\n",
       "      <th>0</th>\n",
       "      <td>6</td>\n",
       "      <td>Cộng Cà Phê</td>\n",
       "      <td>Hải Phòng</td>\n",
       "      <td>2017</td>\n",
       "      <td>1</td>\n",
       "    </tr>\n",
       "    <tr>\n",
       "      <th>1</th>\n",
       "      <td>9</td>\n",
       "      <td>Cộng Cà Phê</td>\n",
       "      <td>Lào Cai</td>\n",
       "      <td>2017</td>\n",
       "      <td>1</td>\n",
       "    </tr>\n",
       "    <tr>\n",
       "      <th>2</th>\n",
       "      <td>10</td>\n",
       "      <td>Cộng Cà Phê</td>\n",
       "      <td>Nha Trang</td>\n",
       "      <td>2017</td>\n",
       "      <td>1</td>\n",
       "    </tr>\n",
       "    <tr>\n",
       "      <th>3</th>\n",
       "      <td>11</td>\n",
       "      <td>Cộng Cà Phê</td>\n",
       "      <td>Quảng Nam</td>\n",
       "      <td>2017</td>\n",
       "      <td>1</td>\n",
       "    </tr>\n",
       "    <tr>\n",
       "      <th>4</th>\n",
       "      <td>12</td>\n",
       "      <td>Cộng Cà Phê</td>\n",
       "      <td>Quảng Ninh</td>\n",
       "      <td>2017</td>\n",
       "      <td>1</td>\n",
       "    </tr>\n",
       "  </tbody>\n",
       "</table>\n",
       "</div>"
      ],
      "text/plain": [
       "   No#        Brand        City  Year  StoreCount\n",
       "0    6  Cộng Cà Phê   Hải Phòng  2017           1\n",
       "1    9  Cộng Cà Phê     Lào Cai  2017           1\n",
       "2   10  Cộng Cà Phê   Nha Trang  2017           1\n",
       "3   11  Cộng Cà Phê   Quảng Nam  2017           1\n",
       "4   12  Cộng Cà Phê  Quảng Ninh  2017           1"
      ]
     },
     "execution_count": 239,
     "metadata": {},
     "output_type": "execute_result"
    }
   ],
   "source": [
    "df = pd.read_csv(competitor_database_path,delimiter=\";\")\n",
    "df.head()"
   ]
  },
  {
   "cell_type": "code",
   "execution_count": null,
   "metadata": {
    "id": "S3Mrl3h0Ps_v"
   },
   "outputs": [],
   "source": []
  },
  {
   "cell_type": "markdown",
   "metadata": {
    "id": "loA5z4PiwZgB"
   },
   "source": [
    "## Practice"
   ]
  },
  {
   "cell_type": "code",
   "execution_count": 241,
   "metadata": {},
   "outputs": [],
   "source": [
    "import pandas as pd\n",
    "\n",
    "data_path = './Data_working/'\n",
    "segment_path = data_path + '2017Segmentation3685case.csv'\n",
    "brand_image_path = data_path + 'Brand_Image.csv'\n",
    "brand_health_path = data_path + 'Brandhealth.csv'\n",
    "companion_path = data_path + 'Companion.csv'\n",
    "competitor_database_path = data_path + 'Competitor database_xlnm#_FilterDatabase.csv'\n",
    "day_of_week_path = data_path + 'Dayofweek.csv'\n",
    "day_part_path = data_path + 'Daypart.csv'\n",
    "need_state_day_part_path = data_path + 'NeedstateDayDaypart.csv'\n",
    "sa_var_path = data_path + 'SA#var.csv'"
   ]
  },
  {
   "cell_type": "code",
   "execution_count": 242,
   "metadata": {},
   "outputs": [
    {
     "data": {
      "text/html": [
       "<div>\n",
       "<style scoped>\n",
       "    .dataframe tbody tr th:only-of-type {\n",
       "        vertical-align: middle;\n",
       "    }\n",
       "\n",
       "    .dataframe tbody tr th {\n",
       "        vertical-align: top;\n",
       "    }\n",
       "\n",
       "    .dataframe thead th {\n",
       "        text-align: right;\n",
       "    }\n",
       "</style>\n",
       "<table border=\"1\" class=\"dataframe\">\n",
       "  <thead>\n",
       "    <tr style=\"text-align: right;\">\n",
       "      <th></th>\n",
       "      <th>ID</th>\n",
       "      <th>Segmentation</th>\n",
       "      <th>Visit</th>\n",
       "      <th>Spending</th>\n",
       "      <th>Brand</th>\n",
       "      <th>PPA</th>\n",
       "    </tr>\n",
       "  </thead>\n",
       "  <tbody>\n",
       "    <tr>\n",
       "      <th>0</th>\n",
       "      <td>92316</td>\n",
       "      <td>Seg.02 - Mass Asp (VND 25K - VND 59K)</td>\n",
       "      <td>4</td>\n",
       "      <td>120</td>\n",
       "      <td>Indepentdent</td>\n",
       "      <td>30</td>\n",
       "    </tr>\n",
       "    <tr>\n",
       "      <th>1</th>\n",
       "      <td>96307</td>\n",
       "      <td>Seg.02 - Mass Asp (VND 25K - VND 59K)</td>\n",
       "      <td>4</td>\n",
       "      <td>120</td>\n",
       "      <td>Indepentdent</td>\n",
       "      <td>30</td>\n",
       "    </tr>\n",
       "    <tr>\n",
       "      <th>2</th>\n",
       "      <td>105678</td>\n",
       "      <td>Seg.02 - Mass Asp (VND 25K - VND 59K)</td>\n",
       "      <td>4</td>\n",
       "      <td>120</td>\n",
       "      <td>Indepentdent</td>\n",
       "      <td>30</td>\n",
       "    </tr>\n",
       "    <tr>\n",
       "      <th>3</th>\n",
       "      <td>106554</td>\n",
       "      <td>Seg.02 - Mass Asp (VND 25K - VND 59K)</td>\n",
       "      <td>4</td>\n",
       "      <td>120</td>\n",
       "      <td>Indepentdent</td>\n",
       "      <td>30</td>\n",
       "    </tr>\n",
       "    <tr>\n",
       "      <th>4</th>\n",
       "      <td>106555</td>\n",
       "      <td>Seg.02 - Mass Asp (VND 25K - VND 59K)</td>\n",
       "      <td>4</td>\n",
       "      <td>120</td>\n",
       "      <td>Indepentdent</td>\n",
       "      <td>30</td>\n",
       "    </tr>\n",
       "  </tbody>\n",
       "</table>\n",
       "</div>"
      ],
      "text/plain": [
       "       ID                           Segmentation  Visit  Spending  \\\n",
       "0   92316  Seg.02 - Mass Asp (VND 25K - VND 59K)      4       120   \n",
       "1   96307  Seg.02 - Mass Asp (VND 25K - VND 59K)      4       120   \n",
       "2  105678  Seg.02 - Mass Asp (VND 25K - VND 59K)      4       120   \n",
       "3  106554  Seg.02 - Mass Asp (VND 25K - VND 59K)      4       120   \n",
       "4  106555  Seg.02 - Mass Asp (VND 25K - VND 59K)      4       120   \n",
       "\n",
       "          Brand  PPA  \n",
       "0  Indepentdent   30  \n",
       "1  Indepentdent   30  \n",
       "2  Indepentdent   30  \n",
       "3  Indepentdent   30  \n",
       "4  Indepentdent   30  "
      ]
     },
     "execution_count": 242,
     "metadata": {},
     "output_type": "execute_result"
    }
   ],
   "source": [
    "#got to provide a demlimiter\n",
    "df = pd.read_csv(segment_path,delimiter=\";\")\n",
    "df.head()"
   ]
  },
  {
   "cell_type": "markdown",
   "metadata": {},
   "source": [
    "Understand the structure"
   ]
  },
  {
   "cell_type": "code",
   "execution_count": 244,
   "metadata": {},
   "outputs": [
    {
     "name": "stdout",
     "output_type": "stream",
     "text": [
      "Row & col (4944, 6)\n",
      "Cols name Index(['ID', 'Segmentation', 'Visit', 'Spending', 'Brand', 'PPA'], dtype='object')\n",
      "Cols datatype:\n"
     ]
    },
    {
     "data": {
      "text/plain": [
       "ID               int64\n",
       "Segmentation    object\n",
       "Visit            int64\n",
       "Spending         int64\n",
       "Brand           object\n",
       "PPA              int64\n",
       "dtype: object"
      ]
     },
     "metadata": {},
     "output_type": "display_data"
    },
    {
     "name": "stdout",
     "output_type": "stream",
     "text": [
      "Total null value of each col:\n"
     ]
    },
    {
     "data": {
      "text/plain": [
       "ID              0\n",
       "Segmentation    0\n",
       "Visit           0\n",
       "Spending        0\n",
       "Brand           0\n",
       "PPA             0\n",
       "dtype: int64"
      ]
     },
     "metadata": {},
     "output_type": "display_data"
    }
   ],
   "source": [
    "print('Row & col', df.shape)\n",
    "print('Cols name', df.columns)\n",
    "print('Cols datatype:')\n",
    "display(df.dtypes)\n",
    "print('Total null value of each col:')\n",
    "display(df.isnull().sum())"
   ]
  },
  {
   "cell_type": "markdown",
   "metadata": {},
   "source": [
    "Exploring the data"
   ]
  },
  {
   "cell_type": "markdown",
   "metadata": {},
   "source": [
    "print(\"Segment & value count: \")\n",
    "df['Segmentation'].value_counts()"
   ]
  },
  {
   "cell_type": "markdown",
   "metadata": {},
   "source": [
    "Get max"
   ]
  },
  {
   "cell_type": "code",
   "execution_count": 248,
   "metadata": {},
   "outputs": [
    {
     "name": "stdout",
     "output_type": "stream",
     "text": [
      "Max segment : Seg.01 - Mass (<VND 25K) - 2577\n"
     ]
    }
   ],
   "source": [
    "segment_count = df['Segmentation'].value_counts()\n",
    "max_idx = segment_count.idxmax() \n",
    "max_val = segment_count.max()\n",
    "print(f'Max segment : {max_idx} - {max_val}')"
   ]
  },
  {
   "cell_type": "markdown",
   "metadata": {},
   "source": [
    "Get top x"
   ]
  },
  {
   "cell_type": "code",
   "execution_count": 250,
   "metadata": {},
   "outputs": [
    {
     "name": "stdout",
     "output_type": "stream",
     "text": [
      "Normal print: \n"
     ]
    },
    {
     "data": {
      "text/plain": [
       "Segmentation\n",
       "Seg.01 - Mass (<VND 25K)                 2577\n",
       "Seg.02 - Mass Asp (VND 25K - VND 59K)    2104\n",
       "Name: count, dtype: int64"
      ]
     },
     "metadata": {},
     "output_type": "display_data"
    },
    {
     "name": "stdout",
     "output_type": "stream",
     "text": [
      "Customized print: \n",
      "Seg.01 - Mass (<VND 25K) - 2577\n",
      "Seg.02 - Mass Asp (VND 25K - VND 59K) - 2104\n",
      "Row 0 2577\n",
      "Row 1 2104\n",
      "Row 2 218\n"
     ]
    }
   ],
   "source": [
    "segment_count = df['Segmentation'].value_counts()\n",
    "sorted = segment_count.sort_values(ascending=False)\n",
    "print(\"Normal print: \")\n",
    "display(sorted.iloc[:2])\n",
    "print(\"Customized print: \")\n",
    "sorted = sorted.iloc[:2]\n",
    "for key, value in sorted.items(): \n",
    "    print(f\"{key} - {value}\")\n",
    "for i in range(3): \n",
    "    print(f\"Row {i}\", segment_count.iloc[i])"
   ]
  },
  {
   "cell_type": "markdown",
   "metadata": {},
   "source": [
    "Check duplicate"
   ]
  },
  {
   "cell_type": "code",
   "execution_count": 252,
   "metadata": {},
   "outputs": [],
   "source": [
    "import pandas as pd\n",
    "\n",
    "data_path = './Data_working/'\n",
    "segment_path = data_path + '2017Segmentation3685case.csv'\n",
    "brand_image_path = data_path + 'Brand_Image.csv'\n",
    "brand_health_path = data_path + 'Brandhealth.csv'\n",
    "companion_path = data_path + 'Companion.csv'\n",
    "competitor_database_path = data_path + 'Competitor database_xlnm#_FilterDatabase.csv'\n",
    "day_of_week_path = data_path + 'Dayofweek.csv'\n",
    "day_part_path = data_path + 'Daypart.csv'\n",
    "need_state_day_part_path = data_path + 'NeedstateDayDaypart.csv'\n",
    "sa_var_path = data_path + 'SA#var.csv'"
   ]
  },
  {
   "cell_type": "code",
   "execution_count": 301,
   "metadata": {},
   "outputs": [
    {
     "data": {
      "text/plain": [
       "0"
      ]
     },
     "execution_count": 301,
     "metadata": {},
     "output_type": "execute_result"
    }
   ],
   "source": [
    "df = pd.read_csv(segment_path)\n",
    "df.duplicated().sum()"
   ]
  },
  {
   "cell_type": "code",
   "execution_count": null,
   "metadata": {},
   "outputs": [],
   "source": [
    "df = pd.read_csv(brand_image_path,delimiter=\";\")\n",
    "df[df[\"ID\"==724930,year=2019]]"
   ]
  },
  {
   "cell_type": "code",
   "execution_count": 347,
   "metadata": {},
   "outputs": [
    {
     "name": "stdout",
     "output_type": "stream",
     "text": [
      "            ID  Year       City Awareness  \\\n",
      "154345  725118  2019     Hà Nội     Other   \n",
      "154346  725118  2019     Hà Nội     Other   \n",
      "154347  725466  2019     Hà Nội     Other   \n",
      "154348  725466  2019     Hà Nội     Other   \n",
      "154349  726111  2019     Hà Nội     Other   \n",
      "...        ...   ...        ...       ...   \n",
      "442496  817624  2019  Nha Trang     Other   \n",
      "442505  860708  2019  Nha Trang     Other   \n",
      "442506  860708  2019  Nha Trang     Other   \n",
      "442507  860742  2019  Nha Trang     Other   \n",
      "442508  860742  2019  Nha Trang     Other   \n",
      "\n",
      "                                      Attribute BrandImage  \n",
      "154345   Good place for socializing with family      Other  \n",
      "154346   Good place for socializing with family      Other  \n",
      "154347   Good place for socializing with family      Other  \n",
      "154348   Good place for socializing with family      Other  \n",
      "154349   Good place for socializing with family      Other  \n",
      "...                                         ...        ...  \n",
      "442496  Good place for socializing with friends      Other  \n",
      "442505  Good place for socializing with friends      Other  \n",
      "442506  Good place for socializing with friends      Other  \n",
      "442507  Good place for socializing with friends      Other  \n",
      "442508  Good place for socializing with friends      Other  \n",
      "\n",
      "[25916 rows x 6 columns]\n"
     ]
    }
   ],
   "source": [
    "df = pd.read_csv(brand_image_path,delimiter=\";\")\n",
    "duplicates = df[df.duplicated(keep=False)]\n",
    "print(duplicates)"
   ]
  },
  {
   "cell_type": "code",
   "execution_count": 317,
   "metadata": {},
   "outputs": [
    {
     "name": "stderr",
     "output_type": "stream",
     "text": [
      "C:\\Users\\Boy gioi\\AppData\\Local\\Temp\\ipykernel_25508\\2021054581.py:1: DtypeWarning: Columns (4,7,8,10,11,12,16,18) have mixed types. Specify dtype option on import or set low_memory=False.\n",
      "  df = pd.read_csv(brand_health_path,delimiter=\";\")\n"
     ]
    },
    {
     "data": {
      "text/plain": [
       "0"
      ]
     },
     "execution_count": 317,
     "metadata": {},
     "output_type": "execute_result"
    }
   ],
   "source": [
    "df = pd.read_csv(brand_health_path,delimiter=\";\")\n",
    "df.duplicated().sum()"
   ]
  },
  {
   "cell_type": "code",
   "execution_count": 315,
   "metadata": {},
   "outputs": [
    {
     "data": {
      "text/plain": [
       "799"
      ]
     },
     "execution_count": 315,
     "metadata": {},
     "output_type": "execute_result"
    }
   ],
   "source": [
    "df = pd.read_csv(companion_path,delimiter=\";\")\n",
    "df.duplicated().sum()"
   ]
  },
  {
   "cell_type": "code",
   "execution_count": 313,
   "metadata": {},
   "outputs": [
    {
     "data": {
      "text/plain": [
       "0"
      ]
     },
     "execution_count": 313,
     "metadata": {},
     "output_type": "execute_result"
    }
   ],
   "source": [
    "df = pd.read_csv(competitor_database_path,delimiter=\";\")\n",
    "df.duplicated().sum()"
   ]
  },
  {
   "cell_type": "code",
   "execution_count": 355,
   "metadata": {},
   "outputs": [
    {
     "data": {
      "text/html": [
       "<div>\n",
       "<style scoped>\n",
       "    .dataframe tbody tr th:only-of-type {\n",
       "        vertical-align: middle;\n",
       "    }\n",
       "\n",
       "    .dataframe tbody tr th {\n",
       "        vertical-align: top;\n",
       "    }\n",
       "\n",
       "    .dataframe thead th {\n",
       "        text-align: right;\n",
       "    }\n",
       "</style>\n",
       "<table border=\"1\" class=\"dataframe\">\n",
       "  <thead>\n",
       "    <tr style=\"text-align: right;\">\n",
       "      <th></th>\n",
       "      <th>ID</th>\n",
       "      <th>City</th>\n",
       "      <th>Dayofweek</th>\n",
       "      <th>Visit#Dayofweek</th>\n",
       "      <th>Year</th>\n",
       "      <th>Weekday#end</th>\n",
       "    </tr>\n",
       "  </thead>\n",
       "  <tbody>\n",
       "  </tbody>\n",
       "</table>\n",
       "</div>"
      ],
      "text/plain": [
       "Empty DataFrame\n",
       "Columns: [ID, City, Dayofweek, Visit#Dayofweek, Year, Weekday#end]\n",
       "Index: []"
      ]
     },
     "execution_count": 355,
     "metadata": {},
     "output_type": "execute_result"
    }
   ],
   "source": [
    "df = pd.read_csv(day_of_week_path,delimiter=\";\")\n",
    "df = df.dropna()\n",
    "df[df.duplicated()]"
   ]
  },
  {
   "cell_type": "code",
   "execution_count": 309,
   "metadata": {},
   "outputs": [
    {
     "data": {
      "text/plain": [
       "0"
      ]
     },
     "execution_count": 309,
     "metadata": {},
     "output_type": "execute_result"
    }
   ],
   "source": [
    "df = pd.read_csv(day_part_path,delimiter=\";\")\n",
    "df.duplicated().sum()"
   ]
  },
  {
   "cell_type": "code",
   "execution_count": 307,
   "metadata": {},
   "outputs": [
    {
     "data": {
      "text/plain": [
       "72"
      ]
     },
     "execution_count": 307,
     "metadata": {},
     "output_type": "execute_result"
    }
   ],
   "source": [
    "df = pd.read_csv(need_state_day_part_path,delimiter=\";\")\n",
    "df.duplicated().sum()"
   ]
  },
  {
   "cell_type": "code",
   "execution_count": 305,
   "metadata": {},
   "outputs": [
    {
     "data": {
      "text/plain": [
       "0"
      ]
     },
     "execution_count": 305,
     "metadata": {},
     "output_type": "execute_result"
    }
   ],
   "source": [
    "df = pd.read_csv(sa_var_path,delimiter=\";\")\n",
    "df.duplicated().sum()"
   ]
  },
  {
   "cell_type": "code",
   "execution_count": null,
   "metadata": {},
   "outputs": [],
   "source": []
  },
  {
   "cell_type": "code",
   "execution_count": null,
   "metadata": {},
   "outputs": [],
   "source": []
  },
  {
   "cell_type": "code",
   "execution_count": null,
   "metadata": {},
   "outputs": [],
   "source": []
  }
 ],
 "metadata": {
  "colab": {
   "provenance": []
  },
  "kernelspec": {
   "display_name": "Python [conda env:base] *",
   "language": "python",
   "name": "conda-base-py"
  },
  "language_info": {
   "codemirror_mode": {
    "name": "ipython",
    "version": 3
   },
   "file_extension": ".py",
   "mimetype": "text/x-python",
   "name": "python",
   "nbconvert_exporter": "python",
   "pygments_lexer": "ipython3",
   "version": "3.12.7"
  }
 },
 "nbformat": 4,
 "nbformat_minor": 4
}
