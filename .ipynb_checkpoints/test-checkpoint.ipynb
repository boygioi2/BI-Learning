{
 "cells": [
  {
   "cell_type": "code",
   "execution_count": null,
   "metadata": {
    "id": "4vC87sme8Rhq"
   },
   "outputs": [],
   "source": []
  },
  {
   "cell_type": "markdown",
   "metadata": {
    "id": "mkppGu4c9ARR"
   },
   "source": [
    "# **Question 1: Xử lý ban đầu**\n"
   ]
  },
  {
   "cell_type": "markdown",
   "metadata": {
    "id": "QbIpUn3o_8Cj"
   },
   "source": [
    "## ***2. Read data***"
   ]
  },
  {
   "cell_type": "markdown",
   "metadata": {
    "id": "xvj46D6xFDd5"
   },
   "source": [
    "\n",
    "\n",
    "### Path vars\n"
   ]
  },
  {
   "cell_type": "code",
   "execution_count": null,
   "metadata": {
    "id": "mpxj9S7xDCz8"
   },
   "outputs": [],
   "source": [
    "import pandas as pd\n",
    "\n",
    "data_path = './Data_org/'\n",
    "segment_path = data_path + '2017Segmentation3685case.csv'\n",
    "brand_image_path = data_path + 'Brand_Image.csv'\n",
    "brand_health_path = data_path + 'Brandhealth.csv'\n",
    "companion_path = data_path + 'Companion.csv'\n",
    "competitor_database_path = data_path + 'Competitor database_xlnm#_FilterDatabase.csv'\n",
    "day_of_week_path = data_path + 'Dayofweek.csv'\n",
    "day_part_path = data_path + 'Daypart.csv'\n",
    "need_state_day_part_path = data_path + 'NeedstateDayDaypart.csv'\n",
    "sa_var_path = data_path + 'SA#var.csv'"
   ]
  },
  {
   "cell_type": "markdown",
   "metadata": {
    "id": "GqYi1UmlFS0Z"
   },
   "source": [
    "#### 1. Segment"
   ]
  },
  {
   "cell_type": "markdown",
   "metadata": {
    "id": "Kh6FNUfzFVjN"
   },
   "source": [
    "**Quick peak**"
   ]
  },
  {
   "cell_type": "code",
   "execution_count": null,
   "metadata": {
    "colab": {
     "base_uri": "https://localhost:8080/",
     "height": 206
    },
    "id": "BSrX8TrrAGdl",
    "outputId": "919a9719-25a1-4888-ad6b-2d9d2c22b3eb"
   },
   "outputs": [],
   "source": [
    "df = pd.read_csv(segment_path,delimiter=\";\")\n",
    "df.head()"
   ]
  },
  {
   "cell_type": "markdown",
   "metadata": {
    "id": "b5D4rCZTIhX4"
   },
   "source": [
    "**Describe**"
   ]
  },
  {
   "cell_type": "code",
   "execution_count": null,
   "metadata": {
    "colab": {
     "base_uri": "https://localhost:8080/",
     "height": 597
    },
    "id": "4l3nziGtIjm2",
    "outputId": "d1c1605d-47d9-4d4f-99c2-45385bc7011a"
   },
   "outputs": [],
   "source": [
    "print(\"row, col: \",df.shape)\n",
    "print(\"col names: \",df.columns)\n",
    "print(\"Missing value: \")\n",
    "display(df.isnull().sum())\n",
    "print(\"Unique value per col:\")\n",
    "display(df.nunique())"
   ]
  },
  {
   "cell_type": "markdown",
   "metadata": {
    "id": "XVbvyZi-Fa3B"
   },
   "source": [
    "#### 2. Brand image"
   ]
  },
  {
   "cell_type": "markdown",
   "metadata": {
    "id": "Gn8jBLxOJib7"
   },
   "source": [
    "**Quick peak**"
   ]
  },
  {
   "cell_type": "code",
   "execution_count": null,
   "metadata": {
    "colab": {
     "base_uri": "https://localhost:8080/",
     "height": 206
    },
    "id": "UU0Fj-zVANvh",
    "outputId": "1efbb8b5-14e8-4322-b95f-102c22a45ec4"
   },
   "outputs": [],
   "source": [
    "df = pd.read_csv(brand_image_path,delimiter=\";\")\n",
    "df.head()"
   ]
  },
  {
   "cell_type": "markdown",
   "metadata": {
    "id": "hQHB5lkZJj9W"
   },
   "source": [
    "**Describe**"
   ]
  },
  {
   "cell_type": "code",
   "execution_count": null,
   "metadata": {},
   "outputs": [],
   "source": [
    "df = pd.read_csv(brand_image_path,delimiter=\";\")\n",
    "\n",
    "# Strip column names in case there are leading/trailing spaces\n",
    "df.columns = df.columns.str.strip()\n",
    "\n",
    "# Group and filter conflicting rows\n",
    "conflicting_rows = df.groupby(['ID', 'Awareness']) \\\n",
    "    .filter(lambda x: x['Attribute'].dropna().nunique() > 1)\n",
    "\n",
    "# Limit to 100 results\n",
    "conflicting_rows = conflicting_rows.head(100)\n",
    "\n",
    "print(conflicting_rows)\n"
   ]
  },
  {
   "cell_type": "code",
   "execution_count": null,
   "metadata": {
    "colab": {
     "base_uri": "https://localhost:8080/",
     "height": 597
    },
    "id": "uAW-12MYJukR",
    "outputId": "915d5b2f-ceca-44c5-fc35-a9eb51352eb9"
   },
   "outputs": [],
   "source": [
    "print(\"row, col: \",df.shape)\n",
    "print(\"col names: \",df.columns)\n",
    "print(\"Missing value: \")\n",
    "display(df.isnull().sum())\n",
    "print(\"Unique value per col:\")\n",
    "display(df.nunique())"
   ]
  },
  {
   "cell_type": "markdown",
   "metadata": {
    "id": "dwm6Jwr1Fyv-"
   },
   "source": [
    "#### 3. Brand health"
   ]
  },
  {
   "cell_type": "markdown",
   "metadata": {
    "id": "trRHGCcpJ0fd"
   },
   "source": [
    "**Quick peak**"
   ]
  },
  {
   "cell_type": "code",
   "execution_count": null,
   "metadata": {
    "colab": {
     "base_uri": "https://localhost:8080/",
     "height": 241
    },
    "id": "gUPPaDrnETQv",
    "outputId": "811fe7d1-5d54-481f-ca9e-879b1c3b50f1"
   },
   "outputs": [],
   "source": [
    "df = pd.read_csv(brand_health_path,delimiter=\";\")\n",
    "df.head()"
   ]
  },
  {
   "cell_type": "markdown",
   "metadata": {
    "id": "hw1sDnlXJ4F7"
   },
   "source": [
    "**Describe**"
   ]
  },
  {
   "cell_type": "code",
   "execution_count": null,
   "metadata": {},
   "outputs": [],
   "source": []
  },
  {
   "cell_type": "code",
   "execution_count": null,
   "metadata": {
    "colab": {
     "base_uri": "https://localhost:8080/",
     "height": 1000
    },
    "id": "RI2k6PBRJ0Ds",
    "outputId": "a5a1ca09-a0f8-4168-9b5b-8d87fc529c56"
   },
   "outputs": [],
   "source": [
    "print(\"row, col: \",df.shape)\n",
    "print(\"col names: \",df.columns)\n",
    "print(\"Missing value: \")\n",
    "display(df.isnull().sum())\n",
    "print(\"Unique value per col:\")\n",
    "display(df.nunique())"
   ]
  },
  {
   "cell_type": "markdown",
   "metadata": {
    "id": "MfFM0n8GFzNo"
   },
   "source": [
    "#### 4. Companion"
   ]
  },
  {
   "cell_type": "markdown",
   "metadata": {
    "id": "RWrCwF9tJ7bV"
   },
   "source": [
    "**Quick peak**"
   ]
  },
  {
   "cell_type": "code",
   "execution_count": null,
   "metadata": {
    "colab": {
     "base_uri": "https://localhost:8080/",
     "height": 206
    },
    "id": "KASNXYKcGWrZ",
    "outputId": "9950555c-4279-4ca7-b5f1-cd40a738bbfe"
   },
   "outputs": [],
   "source": [
    "df = pd.read_csv(companion_path,delimiter=\";\")\n",
    "df.head()"
   ]
  },
  {
   "cell_type": "markdown",
   "metadata": {
    "id": "Swx7Jb6mKMGx"
   },
   "source": [
    "**Describe**"
   ]
  },
  {
   "cell_type": "markdown",
   "metadata": {
    "id": "R23nnsQEFzdb"
   },
   "source": [
    "#### 5. Competitor database"
   ]
  },
  {
   "cell_type": "markdown",
   "metadata": {
    "id": "D6Ylw85uKA5L"
   },
   "source": [
    "**Quick peak**"
   ]
  },
  {
   "cell_type": "code",
   "execution_count": null,
   "metadata": {
    "colab": {
     "base_uri": "https://localhost:8080/",
     "height": 241
    },
    "id": "guwM_8iFEXnk",
    "outputId": "cc2c8685-62b0-4381-a6c3-226d3b944b08"
   },
   "outputs": [],
   "source": [
    "df = pd.read_csv(competitor_database_path,delimiter=\";\")\n",
    "df.head()"
   ]
  },
  {
   "cell_type": "markdown",
   "metadata": {
    "id": "BOYPCqyxKM-R"
   },
   "source": [
    "**Describe**"
   ]
  },
  {
   "cell_type": "code",
   "execution_count": null,
   "metadata": {
    "colab": {
     "base_uri": "https://localhost:8080/",
     "height": 534
    },
    "id": "90iuuva6KXrZ",
    "outputId": "fd8cb61e-a39a-4cb8-de3f-fffcfc5e6ed3"
   },
   "outputs": [],
   "source": [
    "print(\"row, col: \",df.shape)\n",
    "print(\"col names: \",df.columns)\n",
    "print(\"Missing value: \")\n",
    "display(df.isnull().sum())\n",
    "print(\"Unique value per col:\")\n",
    "display(df.nunique())"
   ]
  },
  {
   "cell_type": "markdown",
   "metadata": {
    "id": "YiFFWzcdFzu0"
   },
   "source": [
    "#### 6. Day of week"
   ]
  },
  {
   "cell_type": "markdown",
   "metadata": {
    "id": "Ww2_Va8NKBzG"
   },
   "source": [
    "**Quick peak**"
   ]
  },
  {
   "cell_type": "code",
   "execution_count": null,
   "metadata": {
    "colab": {
     "base_uri": "https://localhost:8080/",
     "height": 206
    },
    "id": "NLaArWYXEYsC",
    "outputId": "e03579ec-60a3-4d16-bfd6-daee564b12b8"
   },
   "outputs": [],
   "source": [
    "df = pd.read_csv(day_of_week_path,delimiter=\";\")\n",
    "df.head()"
   ]
  },
  {
   "cell_type": "markdown",
   "metadata": {
    "id": "-3CMmElMKNrg"
   },
   "source": [
    "**Describe**"
   ]
  },
  {
   "cell_type": "code",
   "execution_count": null,
   "metadata": {
    "colab": {
     "base_uri": "https://localhost:8080/",
     "height": 597
    },
    "id": "JORsd1SWKdMv",
    "outputId": "d1d26bf4-e401-488e-8053-0dc416ba1b37"
   },
   "outputs": [],
   "source": [
    "print(\"row, col: \",df.shape)\n",
    "print(\"col names: \",df.columns)\n",
    "print(\"Missing value: \")\n",
    "display(df.isnull().sum())\n",
    "print(\"Unique value per col:\")\n",
    "display(df.nunique())"
   ]
  },
  {
   "cell_type": "markdown",
   "metadata": {
    "id": "VM1MW40ZFz6x"
   },
   "source": [
    "#### 7. Day part"
   ]
  },
  {
   "cell_type": "markdown",
   "metadata": {
    "id": "RIsNDx8SKCpp"
   },
   "source": [
    "**Quick peak**"
   ]
  },
  {
   "cell_type": "code",
   "execution_count": null,
   "metadata": {
    "colab": {
     "base_uri": "https://localhost:8080/",
     "height": 206
    },
    "id": "T7R8_suqEYyx",
    "outputId": "81a978e4-d521-478c-8e60-70093867423e"
   },
   "outputs": [],
   "source": [
    "df = pd.read_csv(day_part_path,delimiter=\";\")\n",
    "df.head()"
   ]
  },
  {
   "cell_type": "markdown",
   "metadata": {
    "id": "tSpLmJxpKORs"
   },
   "source": [
    "**Describe**"
   ]
  },
  {
   "cell_type": "code",
   "execution_count": null,
   "metadata": {
    "colab": {
     "base_uri": "https://localhost:8080/",
     "height": 534
    },
    "id": "cWdPPruGKfzc",
    "outputId": "4509abc1-fc24-4141-ec5b-e90aef1a341e"
   },
   "outputs": [],
   "source": [
    "print(\"row, col: \",df.shape)\n",
    "print(\"col names: \",df.columns)\n",
    "print(\"Missing value: \")\n",
    "display(df.isnull().sum())\n",
    "print(\"Unique value per col:\")\n",
    "display(df.nunique())"
   ]
  },
  {
   "cell_type": "markdown",
   "metadata": {
    "id": "z7n6S402F0GG"
   },
   "source": [
    "#### 8. Need state day part"
   ]
  },
  {
   "cell_type": "markdown",
   "metadata": {
    "id": "FsSqp5k3KDSb"
   },
   "source": [
    "**Quick peak**"
   ]
  },
  {
   "cell_type": "code",
   "execution_count": null,
   "metadata": {
    "colab": {
     "base_uri": "https://localhost:8080/",
     "height": 206
    },
    "id": "IW8VJ2CWEY1s",
    "outputId": "5f180983-bf45-4a8d-9dd3-40f2933bab31"
   },
   "outputs": [],
   "source": [
    "df = pd.read_csv(need_state_day_part_path,delimiter=\";\")\n",
    "df.head()"
   ]
  },
  {
   "cell_type": "markdown",
   "metadata": {
    "id": "1PnFzr_WKO4v"
   },
   "source": [
    "**Describe**"
   ]
  },
  {
   "cell_type": "code",
   "execution_count": null,
   "metadata": {
    "colab": {
     "base_uri": "https://localhost:8080/",
     "height": 597
    },
    "id": "spPDyzm1KhVS",
    "outputId": "16fae139-422f-4fda-d3a6-fea531b479bc"
   },
   "outputs": [],
   "source": [
    "print(\"row, col: \",df.shape)\n",
    "print(\"col names: \",df.columns)\n",
    "print(\"Missing value: \")\n",
    "display(df.isnull().sum())\n",
    "print(\"Unique value per col:\")\n",
    "display(df.nunique())"
   ]
  },
  {
   "cell_type": "markdown",
   "metadata": {
    "id": "aUmBEr1mF0R2"
   },
   "source": [
    "#### 9. SA var"
   ]
  },
  {
   "cell_type": "markdown",
   "metadata": {
    "id": "7qnd1gIjKD_-"
   },
   "source": [
    "**Quick peak**"
   ]
  },
  {
   "cell_type": "code",
   "execution_count": null,
   "metadata": {
    "colab": {
     "base_uri": "https://localhost:8080/",
     "height": 293
    },
    "id": "lNleTdxIEY4Z",
    "outputId": "ba4aa536-9daa-466c-ed71-8027218d17f6"
   },
   "outputs": [],
   "source": [
    "df = pd.read_csv(sa_var_path,delimiter=\";\")\n",
    "df.head()"
   ]
  },
  {
   "cell_type": "markdown",
   "metadata": {
    "id": "FXRAFHL3KQA1"
   },
   "source": [
    "**Describe**"
   ]
  },
  {
   "cell_type": "code",
   "execution_count": null,
   "metadata": {
    "colab": {
     "base_uri": "https://localhost:8080/",
     "height": 1000
    },
    "id": "bqCmRKJMKiaY",
    "outputId": "b6452522-d7fa-49f8-ac2c-8facf51a3b13"
   },
   "outputs": [],
   "source": [
    "print(\"row, col: \",df.shape)\n",
    "print(\"col names: \",df.columns)\n",
    "print(\"Missing value: \")\n",
    "display(df.isnull().sum())\n",
    "print(\"Unique value per col:\")\n",
    "display(df.nunique())"
   ]
  },
  {
   "cell_type": "markdown",
   "metadata": {
    "id": "OMs7sUtbH-2f"
   },
   "source": [
    "## ***3. Test tampering data***"
   ]
  },
  {
   "cell_type": "markdown",
   "metadata": {
    "id": "xYt1VTcCL5Lx"
   },
   "source": [
    "### Data path"
   ]
  },
  {
   "cell_type": "code",
   "execution_count": null,
   "metadata": {
    "id": "PoK93wudL6T8"
   },
   "outputs": [],
   "source": [
    "import pandas as pd\n",
    "\n",
    "data_path = './Data_working/'\n",
    "segment_path = data_path + '2017Segmentation3685case.csv'\n",
    "brand_image_path = data_path + 'Brand_Image.csv'\n",
    "brand_health_path = data_path + 'Brandhealth.csv'\n",
    "companion_path = data_path + 'Companion.csv'\n",
    "competitor_database_path = data_path + 'Competitor database_xlnm#_FilterDatabase.csv'\n",
    "day_of_week_path = data_path + 'Dayofweek.csv'\n",
    "day_part_path = data_path + 'Daypart.csv'\n",
    "need_state_day_part_path = data_path + 'NeedstateDayDaypart.csv'\n",
    "sa_var_path = data_path + 'SA#var.csv'"
   ]
  },
  {
   "cell_type": "markdown",
   "metadata": {
    "id": "CReHmsQgMMiw"
   },
   "source": [
    "### Tampering with Competitor db( least row)"
   ]
  },
  {
   "cell_type": "code",
   "execution_count": null,
   "metadata": {
    "id": "mD3uTPiXMNME"
   },
   "outputs": [],
   "source": [
    "df = pd.read_csv(competitor_database_path,delimiter=\";\")"
   ]
  },
  {
   "cell_type": "code",
   "execution_count": null,
   "metadata": {
    "id": "67jsysRUMnY8"
   },
   "outputs": [],
   "source": [
    "df['new_column'] = 'test_value'\n",
    "output_path = competitor_database_path\n",
    "df.to_csv(output_path,index=False,sep=';')"
   ]
  },
  {
   "cell_type": "code",
   "execution_count": null,
   "metadata": {
    "colab": {
     "base_uri": "https://localhost:8080/",
     "height": 206
    },
    "id": "yrAFnOgrPyFn",
    "outputId": "40db4778-05a9-4257-a555-90b205424305"
   },
   "outputs": [],
   "source": [
    "df = pd.read_csv(competitor_database_path,delimiter=\";\")\n",
    "df.head()"
   ]
  },
  {
   "cell_type": "code",
   "execution_count": null,
   "metadata": {
    "id": "TgN3fceUMoww"
   },
   "outputs": [],
   "source": [
    "df.drop(columns=['new_column'], inplace=True)\n",
    "df.to_csv(output_path,index=False,sep=\";\")"
   ]
  },
  {
   "cell_type": "code",
   "execution_count": null,
   "metadata": {
    "colab": {
     "base_uri": "https://localhost:8080/",
     "height": 206
    },
    "id": "SOVNKkfGOt3Q",
    "outputId": "b72135b9-bd86-48ff-acf8-3a63c754166b"
   },
   "outputs": [],
   "source": [
    "df = pd.read_csv(competitor_database_path,delimiter=\";\")\n",
    "df.head()"
   ]
  },
  {
   "cell_type": "code",
   "execution_count": null,
   "metadata": {
    "id": "S3Mrl3h0Ps_v"
   },
   "outputs": [],
   "source": []
  },
  {
   "cell_type": "markdown",
   "metadata": {
    "id": "loA5z4PiwZgB"
   },
   "source": [
    "## Practice"
   ]
  },
  {
   "cell_type": "code",
   "execution_count": null,
   "metadata": {},
   "outputs": [],
   "source": [
    "import pandas as pd\n",
    "\n",
    "data_path = './Data_working/'\n",
    "segment_path = data_path + '2017Segmentation3685case.csv'\n",
    "brand_image_path = data_path + 'Brand_Image.csv'\n",
    "brand_health_path = data_path + 'Brandhealth.csv'\n",
    "companion_path = data_path + 'Companion.csv'\n",
    "competitor_database_path = data_path + 'Competitor database_xlnm#_FilterDatabase.csv'\n",
    "day_of_week_path = data_path + 'Dayofweek.csv'\n",
    "day_part_path = data_path + 'Daypart.csv'\n",
    "need_state_day_part_path = data_path + 'NeedstateDayDaypart.csv'\n",
    "sa_var_path = data_path + 'SA#var.csv'"
   ]
  },
  {
   "cell_type": "code",
   "execution_count": null,
   "metadata": {},
   "outputs": [],
   "source": [
    "#got to provide a demlimiter\n",
    "df = pd.read_csv(segment_path,delimiter=\";\")\n",
    "df.head()"
   ]
  },
  {
   "cell_type": "markdown",
   "metadata": {},
   "source": [
    "Understand the structure"
   ]
  },
  {
   "cell_type": "code",
   "execution_count": null,
   "metadata": {},
   "outputs": [],
   "source": [
    "print('Row & col', df.shape)\n",
    "print('Cols name', df.columns)\n",
    "print('Cols datatype:')\n",
    "display(df.dtypes)\n",
    "print('Total null value of each col:')\n",
    "display(df.isnull().sum())"
   ]
  },
  {
   "cell_type": "markdown",
   "metadata": {},
   "source": [
    "Exploring the data"
   ]
  },
  {
   "cell_type": "markdown",
   "metadata": {},
   "source": [
    "print(\"Segment & value count: \")\n",
    "df['Segmentation'].value_counts()"
   ]
  },
  {
   "cell_type": "markdown",
   "metadata": {},
   "source": [
    "Get max"
   ]
  },
  {
   "cell_type": "code",
   "execution_count": null,
   "metadata": {},
   "outputs": [],
   "source": [
    "segment_count = df['Segmentation'].value_counts()\n",
    "max_idx = segment_count.idxmax() \n",
    "max_val = segment_count.max()\n",
    "print(f'Max segment : {max_idx} - {max_val}')"
   ]
  },
  {
   "cell_type": "markdown",
   "metadata": {},
   "source": [
    "Get top x"
   ]
  },
  {
   "cell_type": "code",
   "execution_count": null,
   "metadata": {},
   "outputs": [],
   "source": [
    "segment_count = df['Segmentation'].value_counts()\n",
    "sorted = segment_count.sort_values(ascending=False)\n",
    "print(\"Normal print: \")\n",
    "display(sorted.iloc[:2])\n",
    "print(\"Customized print: \")\n",
    "sorted = sorted.iloc[:2]\n",
    "for key, value in sorted.items(): \n",
    "    print(f\"{key} - {value}\")\n",
    "for i in range(3): \n",
    "    print(f\"Row {i}\", segment_count.iloc[i])"
   ]
  },
  {
   "cell_type": "code",
   "execution_count": null,
   "metadata": {},
   "outputs": [],
   "source": []
  }
 ],
 "metadata": {
  "colab": {
   "provenance": []
  },
  "kernelspec": {
   "display_name": "Python [conda env:base] *",
   "language": "python",
   "name": "conda-base-py"
  },
  "language_info": {
   "codemirror_mode": {
    "name": "ipython",
    "version": 3
   },
   "file_extension": ".py",
   "mimetype": "text/x-python",
   "name": "python",
   "nbconvert_exporter": "python",
   "pygments_lexer": "ipython3",
   "version": "3.12.7"
  }
 },
 "nbformat": 4,
 "nbformat_minor": 4
}
